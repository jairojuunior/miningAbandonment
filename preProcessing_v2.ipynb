{
 "cells": [
  {
   "cell_type": "markdown",
   "metadata": {
    "colab_type": "text",
    "id": "view-in-github"
   },
   "source": [
    "<a href=\"https://colab.research.google.com/github/bruAristimunha/miningAbandonment/blob/master/EDA.ipynb\" target=\"_parent\"><img src=\"https://colab.research.google.com/assets/colab-badge.svg\" alt=\"Open In Colab\"/></a>"
   ]
  },
  {
   "cell_type": "code",
   "execution_count": 126,
   "metadata": {
    "colab": {},
    "colab_type": "code",
    "id": "vfOL-Cj1tK8X"
   },
   "outputs": [],
   "source": [
    "#bibliotecas empregadas nessa analise de dados\n",
    "import pandas as pd\n",
    "import matplotlib.pylab as plt\n",
    "import seaborn as sns\n",
    "import numpy as np\n",
    "import scipy as sci\n",
    "import sklearn.preprocessing as sk # LabelEnconder"
   ]
  },
  {
   "cell_type": "markdown",
   "metadata": {
    "colab_type": "text",
    "id": "6969qfV5sfbC"
   },
   "source": [
    "O presente conjunto de dados foi obtido conforme a [descrição](https://github.com/bruAristimunha/miningAbandonment) do projeto.\n",
    "\n",
    "\n",
    "Apesar de o documento estar consistente. Há padrões de formatações indesejados para os algoritmos empregados nessa análise. Como, por exemplo, apenas informação sobre o **ID** em uma linha e as demais com valores faltantes, ou a falta de informação sobre os créditos das disciplinas.\n",
    "\n",
    "\n",
    "Mesmo considerando que canal de obtenção de informação estar disponível, optamos pelo pre-processamento da informação levando em consideração o tempo de resposta."
   ]
  },
  {
   "cell_type": "code",
   "execution_count": 127,
   "metadata": {
    "colab": {
     "base_uri": "https://localhost:8080/",
     "height": 206
    },
    "colab_type": "code",
    "id": "uMxoGDsktK8l",
    "outputId": "f3b285bb-e48e-4e02-a437-f8e0af947cdb"
   },
   "outputs": [
    {
     "data": {
      "text/html": [
       "<div>\n",
       "<style scoped>\n",
       "    .dataframe tbody tr th:only-of-type {\n",
       "        vertical-align: middle;\n",
       "    }\n",
       "\n",
       "    .dataframe tbody tr th {\n",
       "        vertical-align: top;\n",
       "    }\n",
       "\n",
       "    .dataframe thead th {\n",
       "        text-align: right;\n",
       "    }\n",
       "</style>\n",
       "<table border=\"1\" class=\"dataframe\">\n",
       "  <thead>\n",
       "    <tr style=\"text-align: right;\">\n",
       "      <th></th>\n",
       "      <th>ID DO ALUNO</th>\n",
       "      <th>ANO</th>\n",
       "      <th>QUADRIMESTRE</th>\n",
       "      <th>NOME_DISCIPLINA</th>\n",
       "      <th>COD_DISCIPLINA</th>\n",
       "      <th>CATEGORIA</th>\n",
       "      <th>A</th>\n",
       "      <th>B</th>\n",
       "      <th>C</th>\n",
       "      <th>D</th>\n",
       "      <th>F</th>\n",
       "      <th>O</th>\n",
       "    </tr>\n",
       "  </thead>\n",
       "  <tbody>\n",
       "    <tr>\n",
       "      <th>0</th>\n",
       "      <td>1.0</td>\n",
       "      <td>2011.0</td>\n",
       "      <td>2º Quadrimestre</td>\n",
       "      <td>Bases Computacionais da Ciência</td>\n",
       "      <td>BIM0005-13</td>\n",
       "      <td>Obrigatória</td>\n",
       "      <td>NaN</td>\n",
       "      <td>NaN</td>\n",
       "      <td>NaN</td>\n",
       "      <td>1.0</td>\n",
       "      <td>NaN</td>\n",
       "      <td>NaN</td>\n",
       "    </tr>\n",
       "    <tr>\n",
       "      <th>1</th>\n",
       "      <td>NaN</td>\n",
       "      <td>NaN</td>\n",
       "      <td>NaN</td>\n",
       "      <td>Bases Matemáticas</td>\n",
       "      <td>BIN0003-13</td>\n",
       "      <td>Obrigatória</td>\n",
       "      <td>NaN</td>\n",
       "      <td>NaN</td>\n",
       "      <td>NaN</td>\n",
       "      <td>NaN</td>\n",
       "      <td>1.0</td>\n",
       "      <td>NaN</td>\n",
       "    </tr>\n",
       "    <tr>\n",
       "      <th>2</th>\n",
       "      <td>NaN</td>\n",
       "      <td>NaN</td>\n",
       "      <td>NaN</td>\n",
       "      <td>Iniciação à Pesquisa Científica I</td>\n",
       "      <td>ESZX129-13</td>\n",
       "      <td>Opção Limitada</td>\n",
       "      <td>1.0</td>\n",
       "      <td>NaN</td>\n",
       "      <td>NaN</td>\n",
       "      <td>NaN</td>\n",
       "      <td>NaN</td>\n",
       "      <td>NaN</td>\n",
       "    </tr>\n",
       "    <tr>\n",
       "      <th>3</th>\n",
       "      <td>NaN</td>\n",
       "      <td>NaN</td>\n",
       "      <td>NaN</td>\n",
       "      <td>Origem da Vida e Diversidade dos Seres Vivos</td>\n",
       "      <td>BIL0304-13</td>\n",
       "      <td>Obrigatória</td>\n",
       "      <td>NaN</td>\n",
       "      <td>1.0</td>\n",
       "      <td>NaN</td>\n",
       "      <td>NaN</td>\n",
       "      <td>NaN</td>\n",
       "      <td>NaN</td>\n",
       "    </tr>\n",
       "    <tr>\n",
       "      <th>4</th>\n",
       "      <td>NaN</td>\n",
       "      <td>NaN</td>\n",
       "      <td>3º Quadrimestre</td>\n",
       "      <td>Geometria Analítica</td>\n",
       "      <td>BCN0404-13</td>\n",
       "      <td>Obrigatória</td>\n",
       "      <td>NaN</td>\n",
       "      <td>NaN</td>\n",
       "      <td>NaN</td>\n",
       "      <td>NaN</td>\n",
       "      <td>1.0</td>\n",
       "      <td>NaN</td>\n",
       "    </tr>\n",
       "  </tbody>\n",
       "</table>\n",
       "</div>"
      ],
      "text/plain": [
       "   ID DO ALUNO     ANO     QUADRIMESTRE  \\\n",
       "0          1.0  2011.0  2º Quadrimestre   \n",
       "1          NaN     NaN              NaN   \n",
       "2          NaN     NaN              NaN   \n",
       "3          NaN     NaN              NaN   \n",
       "4          NaN     NaN  3º Quadrimestre   \n",
       "\n",
       "                                NOME_DISCIPLINA COD_DISCIPLINA  \\\n",
       "0               Bases Computacionais da Ciência     BIM0005-13   \n",
       "1                             Bases Matemáticas     BIN0003-13   \n",
       "2             Iniciação à Pesquisa Científica I     ESZX129-13   \n",
       "3  Origem da Vida e Diversidade dos Seres Vivos     BIL0304-13   \n",
       "4                           Geometria Analítica     BCN0404-13   \n",
       "\n",
       "        CATEGORIA    A    B   C    D    F   O  \n",
       "0     Obrigatória  NaN  NaN NaN  1.0  NaN NaN  \n",
       "1     Obrigatória  NaN  NaN NaN  NaN  1.0 NaN  \n",
       "2  Opção Limitada  1.0  NaN NaN  NaN  NaN NaN  \n",
       "3     Obrigatória  NaN  1.0 NaN  NaN  NaN NaN  \n",
       "4     Obrigatória  NaN  NaN NaN  NaN  1.0 NaN  "
      ]
     },
     "execution_count": 127,
     "metadata": {},
     "output_type": "execute_result"
    }
   ],
   "source": [
    "link = \"https://raw.githubusercontent.com/bruAristimunha/miningAbandonment/master/data/bcc.csv\"\n",
    "dados =  pd.read_csv(link,sep=\";\")\n",
    "dados.head()"
   ]
  },
  {
   "cell_type": "markdown",
   "metadata": {
    "colab_type": "text",
    "id": "RCUENAG-uTcc"
   },
   "source": [
    "Observamos dois padrões de preenchimento distintos ao que chamamos de identificação (aluno, ano, quadrimestre) e o conceitos obtidos. \n",
    "\n",
    "Para tanto, realizamos a separação dos dados e para o preenchimento dos valores faltantes de formas diferentes."
   ]
  },
  {
   "cell_type": "code",
   "execution_count": 128,
   "metadata": {
    "colab": {},
    "colab_type": "code",
    "id": "nHBrkcaVtK82"
   },
   "outputs": [],
   "source": [
    "#Inicialmente separamos os conceitos dos alunos, removendo todos as informações\n",
    "#que não estão relacionadas aos conceitos.\n",
    "conceitos = dados.drop(['ID DO ALUNO', 'ANO', \n",
    "                        'QUADRIMESTRE', 'NOME_DISCIPLINA', \n",
    "                        'COD_DISCIPLINA', 'CATEGORIA'],axis=1).copy()\n",
    "\n",
    "#Preenchemos os valores faltantes com valores 0.\n",
    "conceitos = conceitos.fillna(0)\n",
    "\n",
    "#repetimos o mesmo processo com complemento dos dados\n",
    "identificacao = dados.drop(['A','B','C','D','F','O'],axis=1).copy()\n",
    "\n",
    "#Sempre que há um valor faltante se preenche com o valor na linha superior \n",
    "#da mesma coluna\n",
    "identificacao = identificacao.fillna(method='ffill')"
   ]
  },
  {
   "cell_type": "code",
   "execution_count": 129,
   "metadata": {
    "colab": {},
    "colab_type": "code",
    "id": "KO7ZKgwttK9A"
   },
   "outputs": [],
   "source": [
    "#Juntamos esses dois conjuntos preenchidos com regras de negócio distantas na \n",
    "#variável tratada\n",
    "tratado = pd.concat([identificacao,conceitos],axis=1)\n",
    "\n",
    "#Ao lidar com string e por consequencia comparações entre, realizamos uma série \n",
    "#de padronizações visando tratar erros de grafia, ou variações por acentuação\n",
    "\n",
    "#Remoção de acentos\n",
    "tratado['NOME_DISCIPLINA'] = tratado['NOME_DISCIPLINA'].str.normalize('NFKD')\n",
    "\n",
    "#Para minusculas\n",
    "tratado['NOME_DISCIPLINA'] = tratado['NOME_DISCIPLINA'].str.lower()\n",
    "\n",
    "#Encondificação para ASCII ignorando erros\n",
    "tratado['NOME_DISCIPLINA'] = tratado['NOME_DISCIPLINA'].str.encode('ascii', \n",
    "                                                                errors='ignore')\n",
    "\n",
    "#Decoficação para UTF-8, formato mais empregado nessa categoria de análise\n",
    "tratado['NOME_DISCIPLINA'] = tratado['NOME_DISCIPLINA'].str.decode('utf-8')\n",
    "\n"
   ]
  },
  {
   "cell_type": "code",
   "execution_count": 130,
   "metadata": {
    "colab": {
     "base_uri": "https://localhost:8080/",
     "height": 206
    },
    "colab_type": "code",
    "id": "d3AFYD8tw_N0",
    "outputId": "ce12ad96-78c3-46cd-b9b5-5f8cba8c7bb5"
   },
   "outputs": [
    {
     "data": {
      "text/html": [
       "<div>\n",
       "<style scoped>\n",
       "    .dataframe tbody tr th:only-of-type {\n",
       "        vertical-align: middle;\n",
       "    }\n",
       "\n",
       "    .dataframe tbody tr th {\n",
       "        vertical-align: top;\n",
       "    }\n",
       "\n",
       "    .dataframe thead th {\n",
       "        text-align: right;\n",
       "    }\n",
       "</style>\n",
       "<table border=\"1\" class=\"dataframe\">\n",
       "  <thead>\n",
       "    <tr style=\"text-align: right;\">\n",
       "      <th></th>\n",
       "      <th>ID DO ALUNO</th>\n",
       "      <th>ANO</th>\n",
       "      <th>QUADRIMESTRE</th>\n",
       "      <th>NOME_DISCIPLINA</th>\n",
       "      <th>COD_DISCIPLINA</th>\n",
       "      <th>CATEGORIA</th>\n",
       "      <th>A</th>\n",
       "      <th>B</th>\n",
       "      <th>C</th>\n",
       "      <th>D</th>\n",
       "      <th>F</th>\n",
       "      <th>O</th>\n",
       "    </tr>\n",
       "  </thead>\n",
       "  <tbody>\n",
       "    <tr>\n",
       "      <th>0</th>\n",
       "      <td>1.0</td>\n",
       "      <td>2011.0</td>\n",
       "      <td>2º Quadrimestre</td>\n",
       "      <td>bases computacionais da ciencia</td>\n",
       "      <td>BIM0005-13</td>\n",
       "      <td>Obrigatória</td>\n",
       "      <td>0.0</td>\n",
       "      <td>0.0</td>\n",
       "      <td>0.0</td>\n",
       "      <td>1.0</td>\n",
       "      <td>0.0</td>\n",
       "      <td>0.0</td>\n",
       "    </tr>\n",
       "    <tr>\n",
       "      <th>1</th>\n",
       "      <td>1.0</td>\n",
       "      <td>2011.0</td>\n",
       "      <td>2º Quadrimestre</td>\n",
       "      <td>bases matematicas</td>\n",
       "      <td>BIN0003-13</td>\n",
       "      <td>Obrigatória</td>\n",
       "      <td>0.0</td>\n",
       "      <td>0.0</td>\n",
       "      <td>0.0</td>\n",
       "      <td>0.0</td>\n",
       "      <td>1.0</td>\n",
       "      <td>0.0</td>\n",
       "    </tr>\n",
       "    <tr>\n",
       "      <th>2</th>\n",
       "      <td>1.0</td>\n",
       "      <td>2011.0</td>\n",
       "      <td>2º Quadrimestre</td>\n",
       "      <td>iniciacao a pesquisa cientifica i</td>\n",
       "      <td>ESZX129-13</td>\n",
       "      <td>Opção Limitada</td>\n",
       "      <td>1.0</td>\n",
       "      <td>0.0</td>\n",
       "      <td>0.0</td>\n",
       "      <td>0.0</td>\n",
       "      <td>0.0</td>\n",
       "      <td>0.0</td>\n",
       "    </tr>\n",
       "    <tr>\n",
       "      <th>3</th>\n",
       "      <td>1.0</td>\n",
       "      <td>2011.0</td>\n",
       "      <td>2º Quadrimestre</td>\n",
       "      <td>origem da vida e diversidade dos seres vivos</td>\n",
       "      <td>BIL0304-13</td>\n",
       "      <td>Obrigatória</td>\n",
       "      <td>0.0</td>\n",
       "      <td>1.0</td>\n",
       "      <td>0.0</td>\n",
       "      <td>0.0</td>\n",
       "      <td>0.0</td>\n",
       "      <td>0.0</td>\n",
       "    </tr>\n",
       "    <tr>\n",
       "      <th>4</th>\n",
       "      <td>1.0</td>\n",
       "      <td>2011.0</td>\n",
       "      <td>3º Quadrimestre</td>\n",
       "      <td>geometria analitica</td>\n",
       "      <td>BCN0404-13</td>\n",
       "      <td>Obrigatória</td>\n",
       "      <td>0.0</td>\n",
       "      <td>0.0</td>\n",
       "      <td>0.0</td>\n",
       "      <td>0.0</td>\n",
       "      <td>1.0</td>\n",
       "      <td>0.0</td>\n",
       "    </tr>\n",
       "  </tbody>\n",
       "</table>\n",
       "</div>"
      ],
      "text/plain": [
       "   ID DO ALUNO     ANO     QUADRIMESTRE  \\\n",
       "0          1.0  2011.0  2º Quadrimestre   \n",
       "1          1.0  2011.0  2º Quadrimestre   \n",
       "2          1.0  2011.0  2º Quadrimestre   \n",
       "3          1.0  2011.0  2º Quadrimestre   \n",
       "4          1.0  2011.0  3º Quadrimestre   \n",
       "\n",
       "                                NOME_DISCIPLINA COD_DISCIPLINA  \\\n",
       "0               bases computacionais da ciencia     BIM0005-13   \n",
       "1                             bases matematicas     BIN0003-13   \n",
       "2             iniciacao a pesquisa cientifica i     ESZX129-13   \n",
       "3  origem da vida e diversidade dos seres vivos     BIL0304-13   \n",
       "4                           geometria analitica     BCN0404-13   \n",
       "\n",
       "        CATEGORIA    A    B    C    D    F    O  \n",
       "0     Obrigatória  0.0  0.0  0.0  1.0  0.0  0.0  \n",
       "1     Obrigatória  0.0  0.0  0.0  0.0  1.0  0.0  \n",
       "2  Opção Limitada  1.0  0.0  0.0  0.0  0.0  0.0  \n",
       "3     Obrigatória  0.0  1.0  0.0  0.0  0.0  0.0  \n",
       "4     Obrigatória  0.0  0.0  0.0  0.0  1.0  0.0  "
      ]
     },
     "execution_count": 130,
     "metadata": {},
     "output_type": "execute_result"
    }
   ],
   "source": [
    "#Resultado após o processo de preenchimento e padronização\n",
    "tratado.head()"
   ]
  },
  {
   "cell_type": "markdown",
   "metadata": {
    "colab_type": "text",
    "id": "jsU8IFQs03s1"
   },
   "source": [
    "## Seguindo, optamos nessa etapa pela criação das seguintes variáveis.\n",
    "\n",
    "\n",
    "\n",
    "1.  Tempo na Universidade em Anos; [OK]\n",
    "2.  Quantidade de créditos por quadrimestre; [OK]\n",
    "3.  Coeficiente de rendimento por quadrimestre; [OK]\n",
    "4.  Coeficiente de rendimento por ano; [OK]\n",
    "5.  Coeficiente de rendimento atual; [OK]\n",
    "6.  Porcentagem de reprovação e abandono nas disciplinas; [OK]\n",
    "7  Diferença por quadrimestre da média de créditos global menos a quantidade no quadrimestre; [OK]\n",
    "8.  z-score entre a quantidade créditos cursadas; [OK]  \n",
    "9.  Distância entre o quadrimestre ideal e o quadrimestre cursado; [OK]\n"
   ]
  },
  {
   "cell_type": "markdown",
   "metadata": {
    "colab_type": "text",
    "id": "gPJKz6QS3f4q"
   },
   "source": [
    "###   1. Tempo na Universidade em Anos"
   ]
  },
  {
   "cell_type": "code",
   "execution_count": 131,
   "metadata": {
    "colab": {},
    "colab_type": "code",
    "id": "uH0GgcF63dDy"
   },
   "outputs": [],
   "source": [
    "#Junção de ano + quadrimestre\n",
    "tratado['ANO_QUAD']= tratado['ANO'].astype(str)+tratado['QUADRIMESTRE']\n",
    "\n",
    "#Quadrimestre cursado obtido pelo groupby por ALUNO, aplicando no ANO_QUAD \n",
    "#uma codificação para label através da função do Sklearn, \n",
    "#além de aplicar a concatenação desses multiplos groupbys + 1 \n",
    "tratado['QUAD_CURSADO'] = np.concatenate(tratado.groupby(\"ID DO ALUNO\")['ANO_QUAD'].apply(sk.LabelEncoder().fit_transform).values) + 1\n",
    "\n",
    "#Obteção dos anos na universidade dado a contagem de créditos.\n",
    "tratado['ANOS_NA_UNIVER'] = tratado['QUAD_CURSADO']//3"
   ]
  },
  {
   "cell_type": "code",
   "execution_count": 132,
   "metadata": {
    "colab": {
     "base_uri": "https://localhost:8080/",
     "height": 363
    },
    "colab_type": "code",
    "id": "uvsRaRbn4SH3",
    "outputId": "ef38fd80-7575-4ebd-ab94-6a462a59886b"
   },
   "outputs": [
    {
     "data": {
      "text/html": [
       "<div>\n",
       "<style scoped>\n",
       "    .dataframe tbody tr th:only-of-type {\n",
       "        vertical-align: middle;\n",
       "    }\n",
       "\n",
       "    .dataframe tbody tr th {\n",
       "        vertical-align: top;\n",
       "    }\n",
       "\n",
       "    .dataframe thead th {\n",
       "        text-align: right;\n",
       "    }\n",
       "</style>\n",
       "<table border=\"1\" class=\"dataframe\">\n",
       "  <thead>\n",
       "    <tr style=\"text-align: right;\">\n",
       "      <th></th>\n",
       "      <th>ID DO ALUNO</th>\n",
       "      <th>ANO</th>\n",
       "      <th>QUADRIMESTRE</th>\n",
       "      <th>NOME_DISCIPLINA</th>\n",
       "      <th>COD_DISCIPLINA</th>\n",
       "      <th>CATEGORIA</th>\n",
       "      <th>A</th>\n",
       "      <th>B</th>\n",
       "      <th>C</th>\n",
       "      <th>D</th>\n",
       "      <th>F</th>\n",
       "      <th>O</th>\n",
       "      <th>ANO_QUAD</th>\n",
       "      <th>QUAD_CURSADO</th>\n",
       "      <th>ANOS_NA_UNIVER</th>\n",
       "    </tr>\n",
       "  </thead>\n",
       "  <tbody>\n",
       "    <tr>\n",
       "      <th>0</th>\n",
       "      <td>1.0</td>\n",
       "      <td>2011.0</td>\n",
       "      <td>2º Quadrimestre</td>\n",
       "      <td>bases computacionais da ciencia</td>\n",
       "      <td>BIM0005-13</td>\n",
       "      <td>Obrigatória</td>\n",
       "      <td>0.0</td>\n",
       "      <td>0.0</td>\n",
       "      <td>0.0</td>\n",
       "      <td>1.0</td>\n",
       "      <td>0.0</td>\n",
       "      <td>0.0</td>\n",
       "      <td>2011.02º Quadrimestre</td>\n",
       "      <td>1</td>\n",
       "      <td>0</td>\n",
       "    </tr>\n",
       "    <tr>\n",
       "      <th>1</th>\n",
       "      <td>1.0</td>\n",
       "      <td>2011.0</td>\n",
       "      <td>2º Quadrimestre</td>\n",
       "      <td>bases matematicas</td>\n",
       "      <td>BIN0003-13</td>\n",
       "      <td>Obrigatória</td>\n",
       "      <td>0.0</td>\n",
       "      <td>0.0</td>\n",
       "      <td>0.0</td>\n",
       "      <td>0.0</td>\n",
       "      <td>1.0</td>\n",
       "      <td>0.0</td>\n",
       "      <td>2011.02º Quadrimestre</td>\n",
       "      <td>1</td>\n",
       "      <td>0</td>\n",
       "    </tr>\n",
       "    <tr>\n",
       "      <th>2</th>\n",
       "      <td>1.0</td>\n",
       "      <td>2011.0</td>\n",
       "      <td>2º Quadrimestre</td>\n",
       "      <td>iniciacao a pesquisa cientifica i</td>\n",
       "      <td>ESZX129-13</td>\n",
       "      <td>Opção Limitada</td>\n",
       "      <td>1.0</td>\n",
       "      <td>0.0</td>\n",
       "      <td>0.0</td>\n",
       "      <td>0.0</td>\n",
       "      <td>0.0</td>\n",
       "      <td>0.0</td>\n",
       "      <td>2011.02º Quadrimestre</td>\n",
       "      <td>1</td>\n",
       "      <td>0</td>\n",
       "    </tr>\n",
       "    <tr>\n",
       "      <th>3</th>\n",
       "      <td>1.0</td>\n",
       "      <td>2011.0</td>\n",
       "      <td>2º Quadrimestre</td>\n",
       "      <td>origem da vida e diversidade dos seres vivos</td>\n",
       "      <td>BIL0304-13</td>\n",
       "      <td>Obrigatória</td>\n",
       "      <td>0.0</td>\n",
       "      <td>1.0</td>\n",
       "      <td>0.0</td>\n",
       "      <td>0.0</td>\n",
       "      <td>0.0</td>\n",
       "      <td>0.0</td>\n",
       "      <td>2011.02º Quadrimestre</td>\n",
       "      <td>1</td>\n",
       "      <td>0</td>\n",
       "    </tr>\n",
       "    <tr>\n",
       "      <th>4</th>\n",
       "      <td>1.0</td>\n",
       "      <td>2011.0</td>\n",
       "      <td>3º Quadrimestre</td>\n",
       "      <td>geometria analitica</td>\n",
       "      <td>BCN0404-13</td>\n",
       "      <td>Obrigatória</td>\n",
       "      <td>0.0</td>\n",
       "      <td>0.0</td>\n",
       "      <td>0.0</td>\n",
       "      <td>0.0</td>\n",
       "      <td>1.0</td>\n",
       "      <td>0.0</td>\n",
       "      <td>2011.03º Quadrimestre</td>\n",
       "      <td>2</td>\n",
       "      <td>0</td>\n",
       "    </tr>\n",
       "  </tbody>\n",
       "</table>\n",
       "</div>"
      ],
      "text/plain": [
       "   ID DO ALUNO     ANO     QUADRIMESTRE  \\\n",
       "0          1.0  2011.0  2º Quadrimestre   \n",
       "1          1.0  2011.0  2º Quadrimestre   \n",
       "2          1.0  2011.0  2º Quadrimestre   \n",
       "3          1.0  2011.0  2º Quadrimestre   \n",
       "4          1.0  2011.0  3º Quadrimestre   \n",
       "\n",
       "                                NOME_DISCIPLINA COD_DISCIPLINA  \\\n",
       "0               bases computacionais da ciencia     BIM0005-13   \n",
       "1                             bases matematicas     BIN0003-13   \n",
       "2             iniciacao a pesquisa cientifica i     ESZX129-13   \n",
       "3  origem da vida e diversidade dos seres vivos     BIL0304-13   \n",
       "4                           geometria analitica     BCN0404-13   \n",
       "\n",
       "        CATEGORIA    A    B    C    D    F    O               ANO_QUAD  \\\n",
       "0     Obrigatória  0.0  0.0  0.0  1.0  0.0  0.0  2011.02º Quadrimestre   \n",
       "1     Obrigatória  0.0  0.0  0.0  0.0  1.0  0.0  2011.02º Quadrimestre   \n",
       "2  Opção Limitada  1.0  0.0  0.0  0.0  0.0  0.0  2011.02º Quadrimestre   \n",
       "3     Obrigatória  0.0  1.0  0.0  0.0  0.0  0.0  2011.02º Quadrimestre   \n",
       "4     Obrigatória  0.0  0.0  0.0  0.0  1.0  0.0  2011.03º Quadrimestre   \n",
       "\n",
       "   QUAD_CURSADO  ANOS_NA_UNIVER  \n",
       "0             1               0  \n",
       "1             1               0  \n",
       "2             1               0  \n",
       "3             1               0  \n",
       "4             2               0  "
      ]
     },
     "execution_count": 132,
     "metadata": {},
     "output_type": "execute_result"
    }
   ],
   "source": [
    "tratado.head(5)"
   ]
  },
  {
   "cell_type": "markdown",
   "metadata": {
    "colab_type": "text",
    "id": "5SOVDRYv6ekN"
   },
   "source": [
    "## 2. Quantidade de créditos por quadrimestre;\n",
    "\n",
    "Para essa análise necessitamos da quantidade créditos teóricos, práticos e individuais de cada disciplinas. Para tanto, buscamos o [catálogo de disciplinas](prograd.ufabc.edu.br/pdf/catalogo_disciplinas_grad>uacao_2017_2018_v2.xlsx) da universidade. Removemos as informações sobre as ementas desse arquivo anteriormente."
   ]
  },
  {
   "cell_type": "code",
   "execution_count": 133,
   "metadata": {
    "colab": {
     "base_uri": "https://localhost:8080/",
     "height": 206
    },
    "colab_type": "code",
    "id": "C1gySSuA-t7p",
    "outputId": "5e5529de-2580-4450-c0ff-8770511d22bb"
   },
   "outputs": [
    {
     "data": {
      "text/html": [
       "<div>\n",
       "<style scoped>\n",
       "    .dataframe tbody tr th:only-of-type {\n",
       "        vertical-align: middle;\n",
       "    }\n",
       "\n",
       "    .dataframe tbody tr th {\n",
       "        vertical-align: top;\n",
       "    }\n",
       "\n",
       "    .dataframe thead th {\n",
       "        text-align: right;\n",
       "    }\n",
       "</style>\n",
       "<table border=\"1\" class=\"dataframe\">\n",
       "  <thead>\n",
       "    <tr style=\"text-align: right;\">\n",
       "      <th></th>\n",
       "      <th>SIGLA</th>\n",
       "      <th>DISCIPLINA</th>\n",
       "      <th>T</th>\n",
       "      <th>P</th>\n",
       "      <th>I</th>\n",
       "      <th>RECOMENDAÇÃO</th>\n",
       "    </tr>\n",
       "  </thead>\n",
       "  <tbody>\n",
       "    <tr>\n",
       "      <th>0</th>\n",
       "      <td>ESHR022-14</td>\n",
       "      <td>Abordagens Tradicionais das Relações Internaci...</td>\n",
       "      <td>4</td>\n",
       "      <td>0</td>\n",
       "      <td>4</td>\n",
       "      <td>Não há</td>\n",
       "    </tr>\n",
       "    <tr>\n",
       "      <th>1</th>\n",
       "      <td>ESZM035-17</td>\n",
       "      <td>Aditivação de Polímeros</td>\n",
       "      <td>4</td>\n",
       "      <td>0</td>\n",
       "      <td>4</td>\n",
       "      <td>Síntese de Polímeros; Materiais Poliméricos</td>\n",
       "    </tr>\n",
       "    <tr>\n",
       "      <th>2</th>\n",
       "      <td>ESZP041-14</td>\n",
       "      <td>Administração Pública e Reforma do Estado em P...</td>\n",
       "      <td>4</td>\n",
       "      <td>0</td>\n",
       "      <td>4</td>\n",
       "      <td>Não há</td>\n",
       "    </tr>\n",
       "    <tr>\n",
       "      <th>3</th>\n",
       "      <td>ESTS016-17</td>\n",
       "      <td>Aerodinâmica I</td>\n",
       "      <td>4</td>\n",
       "      <td>0</td>\n",
       "      <td>5</td>\n",
       "      <td>Dinâmica de Gases</td>\n",
       "    </tr>\n",
       "    <tr>\n",
       "      <th>4</th>\n",
       "      <td>ESZS019-17</td>\n",
       "      <td>Aerodinâmica II</td>\n",
       "      <td>4</td>\n",
       "      <td>0</td>\n",
       "      <td>5</td>\n",
       "      <td>Aerodinâmica I</td>\n",
       "    </tr>\n",
       "  </tbody>\n",
       "</table>\n",
       "</div>"
      ],
      "text/plain": [
       "        SIGLA                                         DISCIPLINA  T  P  I  \\\n",
       "0  ESHR022-14  Abordagens Tradicionais das Relações Internaci...  4  0  4   \n",
       "1  ESZM035-17                            Aditivação de Polímeros  4  0  4   \n",
       "2  ESZP041-14  Administração Pública e Reforma do Estado em P...  4  0  4   \n",
       "3  ESTS016-17                                     Aerodinâmica I  4  0  5   \n",
       "4  ESZS019-17                                    Aerodinâmica II  4  0  5   \n",
       "\n",
       "                                  RECOMENDAÇÃO  \n",
       "0                                       Não há  \n",
       "1  Síntese de Polímeros; Materiais Poliméricos  \n",
       "2                                       Não há  \n",
       "3                            Dinâmica de Gases  \n",
       "4                               Aerodinâmica I  "
      ]
     },
     "execution_count": 133,
     "metadata": {},
     "output_type": "execute_result"
    }
   ],
   "source": [
    "catalogo = 'https://raw.githubusercontent.com/bruAristimunha/miningAbandonment/master/data/catalogo_disciplinas_graduacao_2017_2018.csv'\n",
    "disciplinas = pd.read_csv(catalogo, sep=\"|\")\n",
    "disciplinas.head()"
   ]
  },
  {
   "cell_type": "markdown",
   "metadata": {
    "colab_type": "text",
    "id": "wV07BYbU_a_N"
   },
   "source": [
    "Realizamos um pré-processamento das *strings* desse novo conjunto."
   ]
  },
  {
   "cell_type": "code",
   "execution_count": 134,
   "metadata": {
    "colab": {},
    "colab_type": "code",
    "id": "dJGsbIIx_kKu"
   },
   "outputs": [],
   "source": [
    "#Remoção de acentos\n",
    "disciplinas['DISCIPLINA'] = disciplinas['DISCIPLINA'].str.normalize('NFKD')\n",
    "\n",
    "#Para minusculas\n",
    "disciplinas['DISCIPLINA'] = disciplinas['DISCIPLINA'].str.lower()\n",
    "\n",
    "#Encondificação para ASCII ignorando erros\n",
    "disciplinas['DISCIPLINA'] = disciplinas['DISCIPLINA'].str.encode('ascii', errors='ignore')\n",
    "\n",
    "#Decoficação para UTF-8, formato mais empregado nessa categoria de análise\n",
    "disciplinas['DISCIPLINA'] = disciplinas['DISCIPLINA'].str.decode('utf-8')"
   ]
  },
  {
   "cell_type": "markdown",
   "metadata": {
    "colab_type": "text",
    "id": "DA9u8pkx_9ex"
   },
   "source": [
    "Antes disso, realizamos uma análise das disciplinas listadas verificando se não há disciplinas com \n",
    "nomes replicados."
   ]
  },
  {
   "cell_type": "code",
   "execution_count": 135,
   "metadata": {
    "colab": {
     "base_uri": "https://localhost:8080/",
     "height": 34
    },
    "colab_type": "code",
    "id": "lmiJKkQj_8rL",
    "outputId": "e83780ee-ebed-4600-b384-956bd1fa25fc"
   },
   "outputs": [
    {
     "data": {
      "text/plain": [
       "2"
      ]
     },
     "execution_count": 135,
     "metadata": {},
     "output_type": "execute_result"
    }
   ],
   "source": [
    "abs(len(disciplinas['DISCIPLINA'].unique()) - len(disciplinas['DISCIPLINA']))"
   ]
  },
  {
   "cell_type": "markdown",
   "metadata": {
    "colab_type": "text",
    "id": "8lO1lZeQAZQm"
   },
   "source": [
    "Há duas disciplinas com nomes replicados, sendo esses:"
   ]
  },
  {
   "cell_type": "code",
   "execution_count": 136,
   "metadata": {
    "colab": {
     "base_uri": "https://localhost:8080/",
     "height": 112
    },
    "colab_type": "code",
    "id": "68GNSGQ2AYtX",
    "outputId": "38bcf2f2-4bae-4d08-e586-888d517e20df"
   },
   "outputs": [
    {
     "data": {
      "text/html": [
       "<div>\n",
       "<style scoped>\n",
       "    .dataframe tbody tr th:only-of-type {\n",
       "        vertical-align: middle;\n",
       "    }\n",
       "\n",
       "    .dataframe tbody tr th {\n",
       "        vertical-align: top;\n",
       "    }\n",
       "\n",
       "    .dataframe thead th {\n",
       "        text-align: right;\n",
       "    }\n",
       "</style>\n",
       "<table border=\"1\" class=\"dataframe\">\n",
       "  <thead>\n",
       "    <tr style=\"text-align: right;\">\n",
       "      <th></th>\n",
       "      <th>SIGLA</th>\n",
       "      <th>DISCIPLINA</th>\n",
       "      <th>T</th>\n",
       "      <th>P</th>\n",
       "      <th>I</th>\n",
       "      <th>RECOMENDAÇÃO</th>\n",
       "    </tr>\n",
       "  </thead>\n",
       "  <tbody>\n",
       "    <tr>\n",
       "      <th>162</th>\n",
       "      <td>ESZG023-17</td>\n",
       "      <td>contabilidade para engenharia</td>\n",
       "      <td>4</td>\n",
       "      <td>0</td>\n",
       "      <td>5</td>\n",
       "      <td>Economia de Empresas</td>\n",
       "    </tr>\n",
       "    <tr>\n",
       "      <th>467</th>\n",
       "      <td>ESHT009-17</td>\n",
       "      <td>historia da cidade e do urbanismo</td>\n",
       "      <td>4</td>\n",
       "      <td>0</td>\n",
       "      <td>4</td>\n",
       "      <td>Não há</td>\n",
       "    </tr>\n",
       "  </tbody>\n",
       "</table>\n",
       "</div>"
      ],
      "text/plain": [
       "          SIGLA                         DISCIPLINA  T  P  I  \\\n",
       "162  ESZG023-17      contabilidade para engenharia  4  0  5   \n",
       "467  ESHT009-17  historia da cidade e do urbanismo  4  0  4   \n",
       "\n",
       "             RECOMENDAÇÃO  \n",
       "162  Economia de Empresas  \n",
       "467                Não há  "
      ]
     },
     "execution_count": 136,
     "metadata": {},
     "output_type": "execute_result"
    }
   ],
   "source": [
    "disciplinas[disciplinas['DISCIPLINA'].duplicated()]"
   ]
  },
  {
   "cell_type": "markdown",
   "metadata": {
    "colab_type": "text",
    "id": "5SPFFomWBBT3"
   },
   "source": [
    "Talvez seja interessante reportar à universidade. Seguindo nossa análise, verificamos que há 139 disciplinas que estão nos históricos dos alunos, mas não estão no catálogo de disciplina. Isso ocorre, pois, as disciplinas foram substituidas por outras."
   ]
  },
  {
   "cell_type": "code",
   "execution_count": 137,
   "metadata": {
    "colab": {
     "base_uri": "https://localhost:8080/",
     "height": 34
    },
    "colab_type": "code",
    "id": "g6a6_zPkCwVV",
    "outputId": "13c22e05-32eb-4819-f193-69a9e77fb824"
   },
   "outputs": [
    {
     "data": {
      "text/plain": [
       "139"
      ]
     },
     "execution_count": 137,
     "metadata": {},
     "output_type": "execute_result"
    }
   ],
   "source": [
    "disci_fora_catalogo = tratado['NOME_DISCIPLINA'].unique()[~np.isin(tratado['NOME_DISCIPLINA'].unique(),disciplinas['DISCIPLINA'].unique())]\n",
    "len(disci_fora_catalogo)"
   ]
  },
  {
   "cell_type": "markdown",
   "metadata": {
    "colab_type": "text",
    "id": "T3s-vjwDGOUr"
   },
   "source": [
    "Analisando o conjunto de disciplinas elencadas observamos que essas disciplinas são datadas dos primeiros projetos pedagógicos da universidade.\n",
    "\n",
    "Dessa forma, recorremos ao primeiro catálogo de disciplinas (2011) e analisamos se haverá redução do número de disciplinas sem informações sobre T-P-I.\n",
    "\n"
   ]
  },
  {
   "cell_type": "code",
   "execution_count": 138,
   "metadata": {
    "colab": {
     "base_uri": "https://localhost:8080/",
     "height": 34
    },
    "colab_type": "code",
    "id": "49fErGExGMul",
    "outputId": "2e8148ad-f712-4be1-8fe8-7b73818b7742"
   },
   "outputs": [
    {
     "data": {
      "text/plain": [
       "Index(['SIGLA', 'DISCIPLINA', 'T', 'P', 'I'], dtype='object')"
      ]
     },
     "execution_count": 138,
     "metadata": {},
     "output_type": "execute_result"
    }
   ],
   "source": [
    "catalogo2011 = \"https://raw.githubusercontent.com/bruAristimunha/miningAbandonment/master/data/catalogo_de_disciplinas_2011.csv\"\n",
    "\n",
    "disciplinas2011 = pd.read_csv(catalogo2011, sep=\"|\")\n",
    "disciplinas2011.columns = ['SIGLA', 'DISCIPLINA', 'T', 'P', 'I']\n",
    "\n",
    "#Remoção de acentos\n",
    "disciplinas2011['DISCIPLINA'] = disciplinas2011['DISCIPLINA'].str.normalize(\n",
    "                                                                        'NFKD')\n",
    "      \n",
    "#Para minusculas\n",
    "disciplinas2011['DISCIPLINA'] = disciplinas2011['DISCIPLINA'].str.lower()\n",
    "\n",
    "#Encondificação para ASCII ignorando erros\n",
    "disciplinas2011['DISCIPLINA'] = disciplinas2011['DISCIPLINA'].str.encode('ascii', \n",
    "                                                                errors='ignore')\n",
    "\n",
    "#Decoficação para UTF-8, formato mais empregado nessa categoria de análise\n",
    "disciplinas2011['DISCIPLINA'] = disciplinas2011['DISCIPLINA'].str.decode('utf-8')\n",
    "\n",
    "\n",
    "disciplinas2011.columns"
   ]
  },
  {
   "cell_type": "code",
   "execution_count": 139,
   "metadata": {
    "colab": {
     "base_uri": "https://localhost:8080/",
     "height": 206
    },
    "colab_type": "code",
    "id": "DShGKc5KLwiy",
    "outputId": "72349df3-39a8-4209-860c-215e5e100ea5"
   },
   "outputs": [
    {
     "data": {
      "text/html": [
       "<div>\n",
       "<style scoped>\n",
       "    .dataframe tbody tr th:only-of-type {\n",
       "        vertical-align: middle;\n",
       "    }\n",
       "\n",
       "    .dataframe tbody tr th {\n",
       "        vertical-align: top;\n",
       "    }\n",
       "\n",
       "    .dataframe thead th {\n",
       "        text-align: right;\n",
       "    }\n",
       "</style>\n",
       "<table border=\"1\" class=\"dataframe\">\n",
       "  <thead>\n",
       "    <tr style=\"text-align: right;\">\n",
       "      <th></th>\n",
       "      <th>SIGLA</th>\n",
       "      <th>DISCIPLINA</th>\n",
       "      <th>T</th>\n",
       "      <th>P</th>\n",
       "      <th>I</th>\n",
       "      <th>RECOMENDAÇÃO</th>\n",
       "    </tr>\n",
       "  </thead>\n",
       "  <tbody>\n",
       "    <tr>\n",
       "      <th>0</th>\n",
       "      <td>ESHR022-14</td>\n",
       "      <td>abordagens tradicionais das relacoes internaci...</td>\n",
       "      <td>4</td>\n",
       "      <td>0</td>\n",
       "      <td>4</td>\n",
       "      <td>Não há</td>\n",
       "    </tr>\n",
       "    <tr>\n",
       "      <th>1</th>\n",
       "      <td>ESZM035-17</td>\n",
       "      <td>aditivacao de polimeros</td>\n",
       "      <td>4</td>\n",
       "      <td>0</td>\n",
       "      <td>4</td>\n",
       "      <td>Síntese de Polímeros; Materiais Poliméricos</td>\n",
       "    </tr>\n",
       "    <tr>\n",
       "      <th>2</th>\n",
       "      <td>ESZP041-14</td>\n",
       "      <td>administracao publica e reforma do estado em p...</td>\n",
       "      <td>4</td>\n",
       "      <td>0</td>\n",
       "      <td>4</td>\n",
       "      <td>Não há</td>\n",
       "    </tr>\n",
       "    <tr>\n",
       "      <th>3</th>\n",
       "      <td>ESTS016-17</td>\n",
       "      <td>aerodinamica i</td>\n",
       "      <td>4</td>\n",
       "      <td>0</td>\n",
       "      <td>5</td>\n",
       "      <td>Dinâmica de Gases</td>\n",
       "    </tr>\n",
       "    <tr>\n",
       "      <th>4</th>\n",
       "      <td>ESZS019-17</td>\n",
       "      <td>aerodinamica ii</td>\n",
       "      <td>4</td>\n",
       "      <td>0</td>\n",
       "      <td>5</td>\n",
       "      <td>Aerodinâmica I</td>\n",
       "    </tr>\n",
       "  </tbody>\n",
       "</table>\n",
       "</div>"
      ],
      "text/plain": [
       "        SIGLA                                         DISCIPLINA  T  P  I  \\\n",
       "0  ESHR022-14  abordagens tradicionais das relacoes internaci...  4  0  4   \n",
       "1  ESZM035-17                            aditivacao de polimeros  4  0  4   \n",
       "2  ESZP041-14  administracao publica e reforma do estado em p...  4  0  4   \n",
       "3  ESTS016-17                                     aerodinamica i  4  0  5   \n",
       "4  ESZS019-17                                    aerodinamica ii  4  0  5   \n",
       "\n",
       "                                  RECOMENDAÇÃO  \n",
       "0                                       Não há  \n",
       "1  Síntese de Polímeros; Materiais Poliméricos  \n",
       "2                                       Não há  \n",
       "3                            Dinâmica de Gases  \n",
       "4                               Aerodinâmica I  "
      ]
     },
     "execution_count": 139,
     "metadata": {},
     "output_type": "execute_result"
    }
   ],
   "source": [
    "disciplinas = disciplinas.append(disciplinas2011, sort=True)\n",
    "\n",
    "\n",
    "disciplinas =  disciplinas[['SIGLA', 'DISCIPLINA', 'T', 'P', 'I', 'RECOMENDAÇÃO']]\n",
    "disciplinas.head()"
   ]
  },
  {
   "cell_type": "markdown",
   "metadata": {
    "colab_type": "text",
    "id": "ZIMyrIPPNYpI"
   },
   "source": [
    "Com essa abordagem reduzimos para 18 o número de disciplinas com informações faltantes"
   ]
  },
  {
   "cell_type": "code",
   "execution_count": 140,
   "metadata": {
    "colab": {
     "base_uri": "https://localhost:8080/",
     "height": 34
    },
    "colab_type": "code",
    "id": "_1vr0Gb4tK9R",
    "outputId": "0c353d4b-c1f1-4ff9-8dbc-5903f6d7b8d1"
   },
   "outputs": [
    {
     "name": "stdout",
     "output_type": "stream",
     "text": [
      "2\n"
     ]
    }
   ],
   "source": [
    "foraCatalogo = tratado['NOME_DISCIPLINA'].unique()[~np.isin(tratado['NOME_DISCIPLINA'].unique(),disciplinas['DISCIPLINA'].unique())]\n",
    "print(len(foraCatalogo))"
   ]
  },
  {
   "cell_type": "markdown",
   "metadata": {
    "colab_type": "text",
    "id": "GLoI4gEVOZZC"
   },
   "source": [
    "Optamos pelo preenchimento manual e adição ao catalogo mais antigo (2011)."
   ]
  },
  {
   "cell_type": "code",
   "execution_count": 141,
   "metadata": {
    "colab": {
     "base_uri": "https://localhost:8080/",
     "height": 34
    },
    "colab_type": "code",
    "id": "W1JUOA4GOY9v",
    "outputId": "31b4a09e-06ee-4709-8716-36b91cceeab4"
   },
   "outputs": [
    {
     "data": {
      "text/plain": [
       "array(['projeto de aeronavesi', 'combustao'], dtype=object)"
      ]
     },
     "execution_count": 141,
     "metadata": {},
     "output_type": "execute_result"
    }
   ],
   "source": [
    "foraCatalogo"
   ]
  },
  {
   "cell_type": "markdown",
   "metadata": {
    "colab_type": "text",
    "id": "gxzyFW6PYKiW"
   },
   "source": [
    "Essas disciplinas não foram encontradas em nenhum fonte oficial de informação. Houve apenas disciplinas Combutão I, mas como não há mais informações optamos por ignorar essas instâncias.\n",
    "\n",
    "Re-ordenamos a nossa matriz com os valores tratados.\n"
   ]
  },
  {
   "cell_type": "code",
   "execution_count": 142,
   "metadata": {
    "colab": {},
    "colab_type": "code",
    "id": "wawUSK7AwW3A"
   },
   "outputs": [],
   "source": [
    "tratado.columns = ['ID DO ALUNO', 'ANO', 'QUADRIMESTRE', 'DISCIPLINA',\n",
    "       'COD_DISCIPLINA', 'CATEGORIA', 'A', 'B', 'C', 'D', 'F', 'O', 'ANO_QUAD',\n",
    "       'QUAD_CURSADO', 'ANOS_NA_UNIVER']"
   ]
  },
  {
   "cell_type": "code",
   "execution_count": 143,
   "metadata": {
    "colab": {
     "base_uri": "https://localhost:8080/",
     "height": 363
    },
    "colab_type": "code",
    "id": "bdW4Knefgx31",
    "outputId": "2d4a1243-eb73-4340-b885-49d3be934aa3"
   },
   "outputs": [
    {
     "data": {
      "text/html": [
       "<div>\n",
       "<style scoped>\n",
       "    .dataframe tbody tr th:only-of-type {\n",
       "        vertical-align: middle;\n",
       "    }\n",
       "\n",
       "    .dataframe tbody tr th {\n",
       "        vertical-align: top;\n",
       "    }\n",
       "\n",
       "    .dataframe thead th {\n",
       "        text-align: right;\n",
       "    }\n",
       "</style>\n",
       "<table border=\"1\" class=\"dataframe\">\n",
       "  <thead>\n",
       "    <tr style=\"text-align: right;\">\n",
       "      <th></th>\n",
       "      <th>ID DO ALUNO</th>\n",
       "      <th>ANO</th>\n",
       "      <th>QUADRIMESTRE</th>\n",
       "      <th>DISCIPLINA</th>\n",
       "      <th>COD_DISCIPLINA</th>\n",
       "      <th>CATEGORIA</th>\n",
       "      <th>A</th>\n",
       "      <th>B</th>\n",
       "      <th>C</th>\n",
       "      <th>D</th>\n",
       "      <th>F</th>\n",
       "      <th>O</th>\n",
       "      <th>ANO_QUAD</th>\n",
       "      <th>QUAD_CURSADO</th>\n",
       "      <th>ANOS_NA_UNIVER</th>\n",
       "    </tr>\n",
       "  </thead>\n",
       "  <tbody>\n",
       "    <tr>\n",
       "      <th>0</th>\n",
       "      <td>1.0</td>\n",
       "      <td>2011.0</td>\n",
       "      <td>2º Quadrimestre</td>\n",
       "      <td>bases computacionais da ciencia</td>\n",
       "      <td>BIM0005-13</td>\n",
       "      <td>Obrigatória</td>\n",
       "      <td>0.0</td>\n",
       "      <td>0.0</td>\n",
       "      <td>0.0</td>\n",
       "      <td>1.0</td>\n",
       "      <td>0.0</td>\n",
       "      <td>0.0</td>\n",
       "      <td>2011.02º Quadrimestre</td>\n",
       "      <td>1</td>\n",
       "      <td>0</td>\n",
       "    </tr>\n",
       "    <tr>\n",
       "      <th>1</th>\n",
       "      <td>1.0</td>\n",
       "      <td>2011.0</td>\n",
       "      <td>2º Quadrimestre</td>\n",
       "      <td>bases matematicas</td>\n",
       "      <td>BIN0003-13</td>\n",
       "      <td>Obrigatória</td>\n",
       "      <td>0.0</td>\n",
       "      <td>0.0</td>\n",
       "      <td>0.0</td>\n",
       "      <td>0.0</td>\n",
       "      <td>1.0</td>\n",
       "      <td>0.0</td>\n",
       "      <td>2011.02º Quadrimestre</td>\n",
       "      <td>1</td>\n",
       "      <td>0</td>\n",
       "    </tr>\n",
       "    <tr>\n",
       "      <th>2</th>\n",
       "      <td>1.0</td>\n",
       "      <td>2011.0</td>\n",
       "      <td>2º Quadrimestre</td>\n",
       "      <td>iniciacao a pesquisa cientifica i</td>\n",
       "      <td>ESZX129-13</td>\n",
       "      <td>Opção Limitada</td>\n",
       "      <td>1.0</td>\n",
       "      <td>0.0</td>\n",
       "      <td>0.0</td>\n",
       "      <td>0.0</td>\n",
       "      <td>0.0</td>\n",
       "      <td>0.0</td>\n",
       "      <td>2011.02º Quadrimestre</td>\n",
       "      <td>1</td>\n",
       "      <td>0</td>\n",
       "    </tr>\n",
       "    <tr>\n",
       "      <th>3</th>\n",
       "      <td>1.0</td>\n",
       "      <td>2011.0</td>\n",
       "      <td>2º Quadrimestre</td>\n",
       "      <td>origem da vida e diversidade dos seres vivos</td>\n",
       "      <td>BIL0304-13</td>\n",
       "      <td>Obrigatória</td>\n",
       "      <td>0.0</td>\n",
       "      <td>1.0</td>\n",
       "      <td>0.0</td>\n",
       "      <td>0.0</td>\n",
       "      <td>0.0</td>\n",
       "      <td>0.0</td>\n",
       "      <td>2011.02º Quadrimestre</td>\n",
       "      <td>1</td>\n",
       "      <td>0</td>\n",
       "    </tr>\n",
       "    <tr>\n",
       "      <th>4</th>\n",
       "      <td>1.0</td>\n",
       "      <td>2011.0</td>\n",
       "      <td>3º Quadrimestre</td>\n",
       "      <td>geometria analitica</td>\n",
       "      <td>BCN0404-13</td>\n",
       "      <td>Obrigatória</td>\n",
       "      <td>0.0</td>\n",
       "      <td>0.0</td>\n",
       "      <td>0.0</td>\n",
       "      <td>0.0</td>\n",
       "      <td>1.0</td>\n",
       "      <td>0.0</td>\n",
       "      <td>2011.03º Quadrimestre</td>\n",
       "      <td>2</td>\n",
       "      <td>0</td>\n",
       "    </tr>\n",
       "  </tbody>\n",
       "</table>\n",
       "</div>"
      ],
      "text/plain": [
       "   ID DO ALUNO     ANO     QUADRIMESTRE  \\\n",
       "0          1.0  2011.0  2º Quadrimestre   \n",
       "1          1.0  2011.0  2º Quadrimestre   \n",
       "2          1.0  2011.0  2º Quadrimestre   \n",
       "3          1.0  2011.0  2º Quadrimestre   \n",
       "4          1.0  2011.0  3º Quadrimestre   \n",
       "\n",
       "                                     DISCIPLINA COD_DISCIPLINA  \\\n",
       "0               bases computacionais da ciencia     BIM0005-13   \n",
       "1                             bases matematicas     BIN0003-13   \n",
       "2             iniciacao a pesquisa cientifica i     ESZX129-13   \n",
       "3  origem da vida e diversidade dos seres vivos     BIL0304-13   \n",
       "4                           geometria analitica     BCN0404-13   \n",
       "\n",
       "        CATEGORIA    A    B    C    D    F    O               ANO_QUAD  \\\n",
       "0     Obrigatória  0.0  0.0  0.0  1.0  0.0  0.0  2011.02º Quadrimestre   \n",
       "1     Obrigatória  0.0  0.0  0.0  0.0  1.0  0.0  2011.02º Quadrimestre   \n",
       "2  Opção Limitada  1.0  0.0  0.0  0.0  0.0  0.0  2011.02º Quadrimestre   \n",
       "3     Obrigatória  0.0  1.0  0.0  0.0  0.0  0.0  2011.02º Quadrimestre   \n",
       "4     Obrigatória  0.0  0.0  0.0  0.0  1.0  0.0  2011.03º Quadrimestre   \n",
       "\n",
       "   QUAD_CURSADO  ANOS_NA_UNIVER  \n",
       "0             1               0  \n",
       "1             1               0  \n",
       "2             1               0  \n",
       "3             1               0  \n",
       "4             2               0  "
      ]
     },
     "execution_count": 143,
     "metadata": {},
     "output_type": "execute_result"
    }
   ],
   "source": [
    "tratado.head()"
   ]
  },
  {
   "cell_type": "code",
   "execution_count": 144,
   "metadata": {
    "colab": {},
    "colab_type": "code",
    "id": "I_F1kRG4b1mr"
   },
   "outputs": [],
   "source": [
    "tratado_01 = tratado.copy()\n",
    "disciplinas_unique = disciplinas.drop_duplicates('DISCIPLINA')\n",
    "tratado_02 = tratado_01.merge(disciplinas_unique,on='DISCIPLINA').sort_values(['ID DO ALUNO','ANO'])"
   ]
  },
  {
   "cell_type": "code",
   "execution_count": 145,
   "metadata": {
    "colab": {},
    "colab_type": "code",
    "id": "9awO1zuZg1qa"
   },
   "outputs": [],
   "source": [
    "tratado_02['CRED'] = tratado_02['T'] + tratado_02['P']"
   ]
  },
  {
   "cell_type": "code",
   "execution_count": 146,
   "metadata": {
    "colab": {},
    "colab_type": "code",
    "id": "3eTPe60XkvLN"
   },
   "outputs": [],
   "source": [
    "creditos_por_quad = tratado_02.groupby(['ID DO ALUNO', 'ANO', 'QUADRIMESTRE'])['CRED'].apply(sum)"
   ]
  },
  {
   "cell_type": "code",
   "execution_count": 147,
   "metadata": {
    "colab": {
     "base_uri": "https://localhost:8080/",
     "height": 86
    },
    "colab_type": "code",
    "id": "YdNAHClPGzSD",
    "outputId": "53b5d641-2b24-4676-fcb3-a00677b92dc6"
   },
   "outputs": [
    {
     "data": {
      "text/plain": [
       "Index(['ID DO ALUNO', 'ANO', 'QUADRIMESTRE', 'DISCIPLINA', 'COD_DISCIPLINA',\n",
       "       'CATEGORIA', 'A', 'B', 'C', 'D', 'F', 'O', 'ANO_QUAD', 'QUAD_CURSADO',\n",
       "       'ANOS_NA_UNIVER', 'SIGLA', 'T', 'P', 'I', 'RECOMENDAÇÃO', 'CRED'],\n",
       "      dtype='object')"
      ]
     },
     "execution_count": 147,
     "metadata": {},
     "output_type": "execute_result"
    }
   ],
   "source": [
    "tratado_02.columns"
   ]
  },
  {
   "cell_type": "markdown",
   "metadata": {
    "colab_type": "text",
    "id": "Ipf72mAlJo25"
   },
   "source": [
    "## 3. Coeficiente de Rendimento por quadrimestre\n"
   ]
  },
  {
   "cell_type": "code",
   "execution_count": 148,
   "metadata": {
    "colab": {},
    "colab_type": "code",
    "id": "vZVL2hg5xfPP"
   },
   "outputs": [],
   "source": [
    "tratado_02['A_'] = tratado_02['A']*4\n",
    "tratado_02['B_'] = tratado_02['B']*3\n",
    "tratado_02['C_'] = tratado_02['C']*2\n",
    "tratado_02['D_'] = tratado_02['D']*1\n",
    "tratado_02['F_'] = tratado_02['F']*0\n",
    "tratado_02['O_'] = tratado_02['O']*0\n",
    "\n",
    "tratado_02['CONCEITO'] = tratado_02['A_']+tratado_02['B_']+tratado_02['C_']+tratado_02['D_']+tratado_02['F_']+tratado_02['O_']\n",
    "          \n",
    "          \n",
    "tratado_02['CONCEITO_CRED'] = tratado_02['CONCEITO']*tratado_02['CRED']\n",
    "\n",
    "cr_por_quadrimestre = tratado_02.groupby([\n",
    "  'ID DO ALUNO','ANO','QUADRIMESTRE'])['CONCEITO_CRED'].apply(sum)/tratado_02.groupby([\n",
    "  'ID DO ALUNO','ANO','QUADRIMESTRE'])['CRED'].apply(sum)"
   ]
  },
  {
   "cell_type": "code",
   "execution_count": 149,
   "metadata": {
    "colab": {
     "base_uri": "https://localhost:8080/",
     "height": 1111
    },
    "colab_type": "code",
    "id": "9yZPvQ3feklV",
    "outputId": "7137ab7d-db9c-4d7c-c535-608ae4280129"
   },
   "outputs": [
    {
     "data": {
      "text/plain": [
       "ID DO ALUNO  ANO     QUADRIMESTRE   \n",
       "1.0          2011.0  2º Quadrimestre    1.727273\n",
       "                     3º Quadrimestre    1.666667\n",
       "             2012.0  1º Quadrimestre    2.176471\n",
       "                     2º Quadrimestre    3.625000\n",
       "                     3º Quadrimestre    3.000000\n",
       "             2013.0  1º Quadrimestre    3.000000\n",
       "                     2º Quadrimestre    3.500000\n",
       "                     3º Quadrimestre    3.000000\n",
       "             2015.0  3º Quadrimestre    3.000000\n",
       "             2016.0  1º Quadrimestre    2.428571\n",
       "                     2º Quadrimestre    1.846154\n",
       "                     3º Quadrimestre    2.666667\n",
       "             2017.0  1º Quadrimestre    0.600000\n",
       "                     2º Quadrimestre    3.384615\n",
       "                     3º Quadrimestre    3.200000\n",
       "2.0          2013.0  1º Quadrimestre    3.000000\n",
       "                     2º Quadrimestre    2.000000\n",
       "                     3º Quadrimestre    1.909091\n",
       "             2014.0  1º Quadrimestre    2.000000\n",
       "                     2º Quadrimestre    1.500000\n",
       "                     3º Quadrimestre    1.833333\n",
       "             2015.0  1º Quadrimestre    0.846154\n",
       "                     2º Quadrimestre    1.461538\n",
       "                     3º Quadrimestre    1.846154\n",
       "             2016.0  1º Quadrimestre    1.428571\n",
       "                     2º Quadrimestre    2.000000\n",
       "                     3º Quadrimestre    2.000000\n",
       "             2017.0  1º Quadrimestre    1.500000\n",
       "                     2º Quadrimestre    2.333333\n",
       "                     3º Quadrimestre    1.500000\n",
       "                                          ...   \n",
       "234.0        2016.0  2º Quadrimestre    1.000000\n",
       "                     3º Quadrimestre    1.000000\n",
       "             2017.0  1º Quadrimestre    0.000000\n",
       "235.0        2008.0  2º Quadrimestre    1.500000\n",
       "                     3º Quadrimestre    2.777778\n",
       "             2009.0  1º Quadrimestre    2.500000\n",
       "                     2º Quadrimestre    1.307692\n",
       "                     3º Quadrimestre    1.666667\n",
       "             2010.0  1º Quadrimestre    1.200000\n",
       "                     2º Quadrimestre    1.529412\n",
       "                     3º Quadrimestre    0.500000\n",
       "             2011.0  1º Quadrimestre    1.000000\n",
       "                     2º Quadrimestre    1.666667\n",
       "                     3º Quadrimestre    1.100000\n",
       "             2012.0  1º Quadrimestre    1.666667\n",
       "                     2º Quadrimestre    1.888889\n",
       "                     3º Quadrimestre    1.277778\n",
       "             2013.0  1º Quadrimestre    1.500000\n",
       "                     2º Quadrimestre    1.333333\n",
       "                     3º Quadrimestre    3.000000\n",
       "             2014.0  1º Quadrimestre    0.400000\n",
       "                     2º Quadrimestre    0.727273\n",
       "                     3º Quadrimestre    3.333333\n",
       "             2015.0  1º Quadrimestre    1.500000\n",
       "                     2º Quadrimestre    1.461538\n",
       "             2016.0  1º Quadrimestre    3.000000\n",
       "                     2º Quadrimestre    2.000000\n",
       "             2017.0  1º Quadrimestre    0.750000\n",
       "                     2º Quadrimestre    1.333333\n",
       "                     3º Quadrimestre    0.000000\n",
       "Length: 4140, dtype: float64"
      ]
     },
     "execution_count": 149,
     "metadata": {},
     "output_type": "execute_result"
    }
   ],
   "source": [
    "cr_por_quadrimestre"
   ]
  },
  {
   "cell_type": "markdown",
   "metadata": {
    "colab_type": "text",
    "id": "_sr3HAORJ7Zt"
   },
   "source": [
    "## 4. Coeficiente de Rendimento por ano\n"
   ]
  },
  {
   "cell_type": "code",
   "execution_count": 150,
   "metadata": {
    "colab": {
     "base_uri": "https://localhost:8080/",
     "height": 139
    },
    "colab_type": "code",
    "id": "fKAUsnfSxx6s",
    "outputId": "7456cc3a-a2dd-40fd-aaea-5527662c7fec"
   },
   "outputs": [
    {
     "data": {
      "text/plain": [
       "ID DO ALUNO  ANO   \n",
       "1.0          2011.0    1.700000\n",
       "             2012.0    2.742857\n",
       "             2013.0    3.181818\n",
       "             2015.0    3.000000\n",
       "             2016.0    2.192308\n",
       "dtype: float64"
      ]
     },
     "execution_count": 150,
     "metadata": {},
     "output_type": "execute_result"
    }
   ],
   "source": [
    "cr_por_ano = tratado_02.groupby([\n",
    "    'ID DO ALUNO', 'ANO'])['CONCEITO_CRED'].apply(sum)/tratado_02.groupby([\n",
    "    'ID DO ALUNO','ANO'])['CRED'].apply(sum)\n",
    "\n",
    "cr_por_ano.head()"
   ]
  },
  {
   "cell_type": "markdown",
   "metadata": {
    "colab_type": "text",
    "id": "XwxJ8eDbKSvn"
   },
   "source": [
    "## 5. Coeficiente de rendimento acumulado"
   ]
  },
  {
   "cell_type": "code",
   "execution_count": 151,
   "metadata": {
    "colab": {
     "base_uri": "https://localhost:8080/",
     "height": 139
    },
    "colab_type": "code",
    "id": "-bRXvFgXKZ4a",
    "outputId": "8d1b6cc5-9e70-47cc-e14e-1568d0fbc53d"
   },
   "outputs": [
    {
     "data": {
      "text/plain": [
       "ID DO ALUNO\n",
       "1.0    2.549669\n",
       "2.0    1.753247\n",
       "3.0    2.528169\n",
       "4.0    1.680135\n",
       "5.0    1.694545\n",
       "dtype: float64"
      ]
     },
     "execution_count": 151,
     "metadata": {},
     "output_type": "execute_result"
    }
   ],
   "source": [
    "cr_acumulado = tratado_02.groupby([\n",
    "    'ID DO ALUNO'])['CONCEITO_CRED'].apply(sum)/tratado_02.groupby([\n",
    "    'ID DO ALUNO'])['CRED'].apply(sum)\n",
    "cr_acumulado.head()"
   ]
  },
  {
   "cell_type": "markdown",
   "metadata": {},
   "source": [
    "## 5.1 Coeficiente de rendimento acumulado até o quadrimestre do registro"
   ]
  },
  {
   "cell_type": "code",
   "execution_count": 152,
   "metadata": {},
   "outputs": [
    {
     "data": {
      "text/html": [
       "<div>\n",
       "<style scoped>\n",
       "    .dataframe tbody tr th:only-of-type {\n",
       "        vertical-align: middle;\n",
       "    }\n",
       "\n",
       "    .dataframe tbody tr th {\n",
       "        vertical-align: top;\n",
       "    }\n",
       "\n",
       "    .dataframe thead th {\n",
       "        text-align: right;\n",
       "    }\n",
       "</style>\n",
       "<table border=\"1\" class=\"dataframe\">\n",
       "  <thead>\n",
       "    <tr style=\"text-align: right;\">\n",
       "      <th></th>\n",
       "      <th></th>\n",
       "      <th></th>\n",
       "      <th>CONCEITO_CRED</th>\n",
       "      <th>CRED</th>\n",
       "    </tr>\n",
       "    <tr>\n",
       "      <th>ID DO ALUNO</th>\n",
       "      <th>ANO</th>\n",
       "      <th>QUADRIMESTRE</th>\n",
       "      <th></th>\n",
       "      <th></th>\n",
       "    </tr>\n",
       "  </thead>\n",
       "  <tbody>\n",
       "    <tr>\n",
       "      <th rowspan=\"5\" valign=\"top\">1.0</th>\n",
       "      <th rowspan=\"2\" valign=\"top\">2011.0</th>\n",
       "      <th>2º Quadrimestre</th>\n",
       "      <td>19.0</td>\n",
       "      <td>11</td>\n",
       "    </tr>\n",
       "    <tr>\n",
       "      <th>3º Quadrimestre</th>\n",
       "      <td>15.0</td>\n",
       "      <td>9</td>\n",
       "    </tr>\n",
       "    <tr>\n",
       "      <th rowspan=\"3\" valign=\"top\">2012.0</th>\n",
       "      <th>1º Quadrimestre</th>\n",
       "      <td>37.0</td>\n",
       "      <td>17</td>\n",
       "    </tr>\n",
       "    <tr>\n",
       "      <th>2º Quadrimestre</th>\n",
       "      <td>29.0</td>\n",
       "      <td>8</td>\n",
       "    </tr>\n",
       "    <tr>\n",
       "      <th>3º Quadrimestre</th>\n",
       "      <td>30.0</td>\n",
       "      <td>10</td>\n",
       "    </tr>\n",
       "  </tbody>\n",
       "</table>\n",
       "</div>"
      ],
      "text/plain": [
       "                                    CONCEITO_CRED  CRED\n",
       "ID DO ALUNO ANO    QUADRIMESTRE                        \n",
       "1.0         2011.0 2º Quadrimestre           19.0    11\n",
       "                   3º Quadrimestre           15.0     9\n",
       "            2012.0 1º Quadrimestre           37.0    17\n",
       "                   2º Quadrimestre           29.0     8\n",
       "                   3º Quadrimestre           30.0    10"
      ]
     },
     "execution_count": 152,
     "metadata": {},
     "output_type": "execute_result"
    }
   ],
   "source": [
    "#Criaremos uma varíavel que representa o CR do aluno no primeiro dia de aula do quadrimestre, \n",
    "#ou seja, o Coeficiente de Rendimento acumulado até a última disciplina do quadrimestre anterior.\n",
    "\n",
    "#Calcula a soma de CONCEITO_CRED e e CRED por quadrimestre. A ideia aqui é utilizar procedimentos MAP-REDUCE-like\n",
    "cr_cumsum_conceitocred_map = tratado_02.groupby([\n",
    "  'ID DO ALUNO','ANO','QUADRIMESTRE'])['CONCEITO_CRED'].apply(sum)\n",
    "\n",
    "cr_cumsum_cred_map = tratado_02.groupby([\n",
    "  'ID DO ALUNO','ANO','QUADRIMESTRE'])['CRED'].apply(sum)\n",
    "\n",
    "#Join do CONCEITO_CRED e CRED por quad\n",
    "cr_cumsum = pd.concat([cr_cumsum_conceitocred_map, cr_cumsum_cred_map], axis=1)\n",
    "cr_cumsum.head(5)"
   ]
  },
  {
   "cell_type": "code",
   "execution_count": 153,
   "metadata": {},
   "outputs": [
    {
     "data": {
      "text/html": [
       "<div>\n",
       "<style scoped>\n",
       "    .dataframe tbody tr th:only-of-type {\n",
       "        vertical-align: middle;\n",
       "    }\n",
       "\n",
       "    .dataframe tbody tr th {\n",
       "        vertical-align: top;\n",
       "    }\n",
       "\n",
       "    .dataframe thead th {\n",
       "        text-align: right;\n",
       "    }\n",
       "</style>\n",
       "<table border=\"1\" class=\"dataframe\">\n",
       "  <thead>\n",
       "    <tr style=\"text-align: right;\">\n",
       "      <th></th>\n",
       "      <th></th>\n",
       "      <th></th>\n",
       "      <th>CONCEITO_CRED</th>\n",
       "      <th>CRED</th>\n",
       "      <th>CONCEITO_CRED_SHIFTED</th>\n",
       "      <th>CRED_SHIFTED</th>\n",
       "    </tr>\n",
       "    <tr>\n",
       "      <th>ID DO ALUNO</th>\n",
       "      <th>ANO</th>\n",
       "      <th>QUADRIMESTRE</th>\n",
       "      <th></th>\n",
       "      <th></th>\n",
       "      <th></th>\n",
       "      <th></th>\n",
       "    </tr>\n",
       "  </thead>\n",
       "  <tbody>\n",
       "    <tr>\n",
       "      <th rowspan=\"15\" valign=\"top\">1.0</th>\n",
       "      <th rowspan=\"2\" valign=\"top\">2011.0</th>\n",
       "      <th>2º Quadrimestre</th>\n",
       "      <td>19.0</td>\n",
       "      <td>11</td>\n",
       "      <td>NaN</td>\n",
       "      <td>NaN</td>\n",
       "    </tr>\n",
       "    <tr>\n",
       "      <th>3º Quadrimestre</th>\n",
       "      <td>15.0</td>\n",
       "      <td>9</td>\n",
       "      <td>19.0</td>\n",
       "      <td>11.0</td>\n",
       "    </tr>\n",
       "    <tr>\n",
       "      <th rowspan=\"3\" valign=\"top\">2012.0</th>\n",
       "      <th>1º Quadrimestre</th>\n",
       "      <td>37.0</td>\n",
       "      <td>17</td>\n",
       "      <td>15.0</td>\n",
       "      <td>9.0</td>\n",
       "    </tr>\n",
       "    <tr>\n",
       "      <th>2º Quadrimestre</th>\n",
       "      <td>29.0</td>\n",
       "      <td>8</td>\n",
       "      <td>37.0</td>\n",
       "      <td>17.0</td>\n",
       "    </tr>\n",
       "    <tr>\n",
       "      <th>3º Quadrimestre</th>\n",
       "      <td>30.0</td>\n",
       "      <td>10</td>\n",
       "      <td>29.0</td>\n",
       "      <td>8.0</td>\n",
       "    </tr>\n",
       "    <tr>\n",
       "      <th rowspan=\"3\" valign=\"top\">2013.0</th>\n",
       "      <th>1º Quadrimestre</th>\n",
       "      <td>30.0</td>\n",
       "      <td>10</td>\n",
       "      <td>30.0</td>\n",
       "      <td>10.0</td>\n",
       "    </tr>\n",
       "    <tr>\n",
       "      <th>2º Quadrimestre</th>\n",
       "      <td>28.0</td>\n",
       "      <td>8</td>\n",
       "      <td>30.0</td>\n",
       "      <td>10.0</td>\n",
       "    </tr>\n",
       "    <tr>\n",
       "      <th>3º Quadrimestre</th>\n",
       "      <td>12.0</td>\n",
       "      <td>4</td>\n",
       "      <td>28.0</td>\n",
       "      <td>8.0</td>\n",
       "    </tr>\n",
       "    <tr>\n",
       "      <th>2015.0</th>\n",
       "      <th>3º Quadrimestre</th>\n",
       "      <td>30.0</td>\n",
       "      <td>10</td>\n",
       "      <td>12.0</td>\n",
       "      <td>4.0</td>\n",
       "    </tr>\n",
       "    <tr>\n",
       "      <th rowspan=\"3\" valign=\"top\">2016.0</th>\n",
       "      <th>1º Quadrimestre</th>\n",
       "      <td>17.0</td>\n",
       "      <td>7</td>\n",
       "      <td>30.0</td>\n",
       "      <td>10.0</td>\n",
       "    </tr>\n",
       "    <tr>\n",
       "      <th>2º Quadrimestre</th>\n",
       "      <td>24.0</td>\n",
       "      <td>13</td>\n",
       "      <td>17.0</td>\n",
       "      <td>7.0</td>\n",
       "    </tr>\n",
       "    <tr>\n",
       "      <th>3º Quadrimestre</th>\n",
       "      <td>16.0</td>\n",
       "      <td>6</td>\n",
       "      <td>24.0</td>\n",
       "      <td>13.0</td>\n",
       "    </tr>\n",
       "    <tr>\n",
       "      <th rowspan=\"3\" valign=\"top\">2017.0</th>\n",
       "      <th>1º Quadrimestre</th>\n",
       "      <td>6.0</td>\n",
       "      <td>10</td>\n",
       "      <td>16.0</td>\n",
       "      <td>6.0</td>\n",
       "    </tr>\n",
       "    <tr>\n",
       "      <th>2º Quadrimestre</th>\n",
       "      <td>44.0</td>\n",
       "      <td>13</td>\n",
       "      <td>6.0</td>\n",
       "      <td>10.0</td>\n",
       "    </tr>\n",
       "    <tr>\n",
       "      <th>3º Quadrimestre</th>\n",
       "      <td>48.0</td>\n",
       "      <td>15</td>\n",
       "      <td>44.0</td>\n",
       "      <td>13.0</td>\n",
       "    </tr>\n",
       "    <tr>\n",
       "      <th rowspan=\"2\" valign=\"top\">2.0</th>\n",
       "      <th rowspan=\"2\" valign=\"top\">2013.0</th>\n",
       "      <th>1º Quadrimestre</th>\n",
       "      <td>12.0</td>\n",
       "      <td>4</td>\n",
       "      <td>NaN</td>\n",
       "      <td>NaN</td>\n",
       "    </tr>\n",
       "    <tr>\n",
       "      <th>2º Quadrimestre</th>\n",
       "      <td>20.0</td>\n",
       "      <td>10</td>\n",
       "      <td>12.0</td>\n",
       "      <td>4.0</td>\n",
       "    </tr>\n",
       "  </tbody>\n",
       "</table>\n",
       "</div>"
      ],
      "text/plain": [
       "                                    CONCEITO_CRED  CRED  \\\n",
       "ID DO ALUNO ANO    QUADRIMESTRE                           \n",
       "1.0         2011.0 2º Quadrimestre           19.0    11   \n",
       "                   3º Quadrimestre           15.0     9   \n",
       "            2012.0 1º Quadrimestre           37.0    17   \n",
       "                   2º Quadrimestre           29.0     8   \n",
       "                   3º Quadrimestre           30.0    10   \n",
       "            2013.0 1º Quadrimestre           30.0    10   \n",
       "                   2º Quadrimestre           28.0     8   \n",
       "                   3º Quadrimestre           12.0     4   \n",
       "            2015.0 3º Quadrimestre           30.0    10   \n",
       "            2016.0 1º Quadrimestre           17.0     7   \n",
       "                   2º Quadrimestre           24.0    13   \n",
       "                   3º Quadrimestre           16.0     6   \n",
       "            2017.0 1º Quadrimestre            6.0    10   \n",
       "                   2º Quadrimestre           44.0    13   \n",
       "                   3º Quadrimestre           48.0    15   \n",
       "2.0         2013.0 1º Quadrimestre           12.0     4   \n",
       "                   2º Quadrimestre           20.0    10   \n",
       "\n",
       "                                    CONCEITO_CRED_SHIFTED  CRED_SHIFTED  \n",
       "ID DO ALUNO ANO    QUADRIMESTRE                                          \n",
       "1.0         2011.0 2º Quadrimestre                    NaN           NaN  \n",
       "                   3º Quadrimestre                   19.0          11.0  \n",
       "            2012.0 1º Quadrimestre                   15.0           9.0  \n",
       "                   2º Quadrimestre                   37.0          17.0  \n",
       "                   3º Quadrimestre                   29.0           8.0  \n",
       "            2013.0 1º Quadrimestre                   30.0          10.0  \n",
       "                   2º Quadrimestre                   30.0          10.0  \n",
       "                   3º Quadrimestre                   28.0           8.0  \n",
       "            2015.0 3º Quadrimestre                   12.0           4.0  \n",
       "            2016.0 1º Quadrimestre                   30.0          10.0  \n",
       "                   2º Quadrimestre                   17.0           7.0  \n",
       "                   3º Quadrimestre                   24.0          13.0  \n",
       "            2017.0 1º Quadrimestre                   16.0           6.0  \n",
       "                   2º Quadrimestre                    6.0          10.0  \n",
       "                   3º Quadrimestre                   44.0          13.0  \n",
       "2.0         2013.0 1º Quadrimestre                    NaN           NaN  \n",
       "                   2º Quadrimestre                   12.0           4.0  "
      ]
     },
     "execution_count": 153,
     "metadata": {},
     "output_type": "execute_result"
    }
   ],
   "source": [
    "#para um dado quadrimestre, mostramos o CR até o anterior, por isso criamos deslocamos CONCEITO_CRED e CRED\n",
    "cr_cumsum['CONCEITO_CRED_SHIFTED'] = cr_cumsum.groupby(['ID DO ALUNO'])['CONCEITO_CRED'].transform(lambda x:x.shift())\n",
    "cr_cumsum['CRED_SHIFTED'] = cr_cumsum.groupby(['ID DO ALUNO'])['CRED'].transform(lambda x:x.shift())\n",
    "cr_cumsum.head(17)"
   ]
  },
  {
   "cell_type": "code",
   "execution_count": 154,
   "metadata": {
    "scrolled": false
   },
   "outputs": [
    {
     "data": {
      "text/plain": [
       "ID DO ALUNO  ANO     QUADRIMESTRE   \n",
       "1.0          2011.0  2º Quadrimestre    4.000000\n",
       "                     3º Quadrimestre    1.727273\n",
       "             2012.0  1º Quadrimestre    1.700000\n",
       "                     2º Quadrimestre    1.918919\n",
       "                     3º Quadrimestre    2.222222\n",
       "             2013.0  1º Quadrimestre    2.363636\n",
       "                     2º Quadrimestre    2.461538\n",
       "                     3º Quadrimestre    2.575342\n",
       "             2015.0  3º Quadrimestre    2.597403\n",
       "             2016.0  1º Quadrimestre    2.643678\n",
       "                     2º Quadrimestre    2.627660\n",
       "                     3º Quadrimestre    2.532710\n",
       "             2017.0  1º Quadrimestre    2.539823\n",
       "                     2º Quadrimestre    2.382114\n",
       "                     3º Quadrimestre    2.477941\n",
       "2.0          2013.0  1º Quadrimestre    4.000000\n",
       "                     2º Quadrimestre    3.000000\n",
       "                     3º Quadrimestre    2.285714\n",
       "             2014.0  1º Quadrimestre    2.120000\n",
       "                     2º Quadrimestre    2.083333\n",
       "                     3º Quadrimestre    1.956522\n",
       "             2015.0  1º Quadrimestre    1.931034\n",
       "                     2º Quadrimestre    1.732394\n",
       "                     3º Quadrimestre    1.690476\n",
       "             2016.0  1º Quadrimestre    1.711340\n",
       "                     2º Quadrimestre    1.692308\n",
       "                     3º Quadrimestre    1.733333\n",
       "             2017.0  1º Quadrimestre    1.757576\n",
       "                     2º Quadrimestre    1.742857\n",
       "                     3º Quadrimestre    1.767123\n",
       "                                          ...   \n",
       "234.0        2016.0  2º Quadrimestre    1.867470\n",
       "                     3º Quadrimestre    1.847059\n",
       "             2017.0  1º Quadrimestre    1.815094\n",
       "235.0        2008.0  2º Quadrimestre    4.000000\n",
       "                     3º Quadrimestre    1.500000\n",
       "             2009.0  1º Quadrimestre    1.960000\n",
       "                     2º Quadrimestre    2.090909\n",
       "                     3º Quadrimestre    1.869565\n",
       "             2010.0  1º Quadrimestre    1.812500\n",
       "                     2º Quadrimestre    1.696203\n",
       "                     3º Quadrimestre    1.666667\n",
       "             2011.0  1º Quadrimestre    1.576923\n",
       "                     2º Quadrimestre    1.535714\n",
       "                     3º Quadrimestre    1.545455\n",
       "             2012.0  1º Quadrimestre    1.511450\n",
       "                     2º Quadrimestre    1.524476\n",
       "                     3º Quadrimestre    1.546053\n",
       "             2013.0  1º Quadrimestre    1.517647\n",
       "                     2º Quadrimestre    1.516854\n",
       "                     3º Quadrimestre    1.508021\n",
       "             2014.0  1º Quadrimestre    1.590909\n",
       "                     2º Quadrimestre    1.533654\n",
       "                     3º Quadrimestre    1.493151\n",
       "             2015.0  1º Quadrimestre    1.542222\n",
       "                     2º Quadrimestre    1.540773\n",
       "             2016.0  1º Quadrimestre    1.536585\n",
       "                     2º Quadrimestre    1.560000\n",
       "             2017.0  1º Quadrimestre    1.563492\n",
       "                     2º Quadrimestre    1.514925\n",
       "                     3º Quadrimestre    1.510949\n",
       "Length: 4140, dtype: float64"
      ]
     },
     "execution_count": 154,
     "metadata": {},
     "output_type": "execute_result"
    }
   ],
   "source": [
    "#Agora simplesmente dividimos a soma acumulada do numerador (CONCEITO_CRED_SHIFTED) pelo denominador (CRED_SHIFTED)\n",
    "#OBS: o primeiro quadrimestre de cada aluno retorna NaN. Assim como a PROGRAD faz, \n",
    "#quando um aluno entra na universidade seu CR é 4\n",
    "cr_cumsum_reduce = (cr_cumsum.groupby(['ID DO ALUNO'])['CONCEITO_CRED_SHIFTED'].cumsum()\n",
    "              /cr_cumsum.groupby(['ID DO ALUNO'])['CRED_SHIFTED'].cumsum()).fillna(4)\n",
    "cr_cumsum_reduce"
   ]
  },
  {
   "cell_type": "markdown",
   "metadata": {
    "colab_type": "text",
    "id": "6bnuvduXKwBS"
   },
   "source": [
    "## 6.  Porcentagem de reprovação na disciplina"
   ]
  },
  {
   "cell_type": "code",
   "execution_count": 155,
   "metadata": {
    "colab": {},
    "colab_type": "code",
    "id": "AQUifPPlKvZM"
   },
   "outputs": [],
   "source": [
    "tratado_02['APROVADO'] = tratado_02['A']+tratado_02['B']+tratado_02['C']+tratado_02['D']\n",
    "tratado_02['REPROVADO'] = tratado_02['F']\n",
    "tratado_02['ABANDONO'] = tratado_02['O']\n",
    "\n",
    "porcent_aprov = tratado_02.groupby(['DISCIPLINA'])['APROVADO'].apply(sum)/(\n",
    "                      tratado_02.groupby(['DISCIPLINA'])['APROVADO'].apply(sum)+\n",
    "                      tratado_02.groupby(['DISCIPLINA'])['REPROVADO'].apply(sum)+\n",
    "                      tratado_02.groupby(['DISCIPLINA'])['ABANDONO'].apply(sum))\n",
    "\n",
    "porcent_reprov = tratado_02.groupby(['DISCIPLINA'])['REPROVADO'].apply(sum)/(\n",
    "                      tratado_02.groupby(['DISCIPLINA'])['APROVADO'].apply(sum)+\n",
    "                      tratado_02.groupby(['DISCIPLINA'])['REPROVADO'].apply(sum)+\n",
    "                      tratado_02.groupby(['DISCIPLINA'])['ABANDONO'].apply(sum))\n",
    "\n",
    "porcent_abando = tratado_02.groupby(['DISCIPLINA'])['ABANDONO'].apply(sum)/(\n",
    "                      tratado_02.groupby(['DISCIPLINA'])['APROVADO'].apply(sum)+\n",
    "                      tratado_02.groupby(['DISCIPLINA'])['REPROVADO'].apply(sum)+\n",
    "                      tratado_02.groupby(['DISCIPLINA'])['ABANDONO'].apply(sum))\n"
   ]
  },
  {
   "cell_type": "code",
   "execution_count": 156,
   "metadata": {
    "colab": {
     "base_uri": "https://localhost:8080/",
     "height": 139
    },
    "colab_type": "code",
    "id": "VteEIRNeMQA4",
    "outputId": "4290093a-5fe7-430f-9d31-2a91c1c4cb46"
   },
   "outputs": [
    {
     "data": {
      "text/plain": [
       "DISCIPLINA\n",
       "acionamentos eletricos                             0.909091\n",
       "acumuladores de energia                            0.750000\n",
       "administracao municipal e desenvolvimento local    1.000000\n",
       "aerodinamica i                                     0.857143\n",
       "aeroelasticidade                                   0.750000\n",
       "dtype: float64"
      ]
     },
     "execution_count": 156,
     "metadata": {},
     "output_type": "execute_result"
    }
   ],
   "source": [
    "porcent_aprov.head()"
   ]
  },
  {
   "cell_type": "code",
   "execution_count": 157,
   "metadata": {
    "colab": {
     "base_uri": "https://localhost:8080/",
     "height": 139
    },
    "colab_type": "code",
    "id": "PBY_wbB8MAkn",
    "outputId": "bbbfcdf1-f473-4eca-dfb9-e88186c81eaf"
   },
   "outputs": [
    {
     "data": {
      "text/plain": [
       "DISCIPLINA\n",
       "acionamentos eletricos                             0.000000\n",
       "acumuladores de energia                            0.000000\n",
       "administracao municipal e desenvolvimento local    0.000000\n",
       "aerodinamica i                                     0.071429\n",
       "aeroelasticidade                                   0.250000\n",
       "dtype: float64"
      ]
     },
     "execution_count": 157,
     "metadata": {},
     "output_type": "execute_result"
    }
   ],
   "source": [
    "porcent_reprov.head()"
   ]
  },
  {
   "cell_type": "code",
   "execution_count": 158,
   "metadata": {
    "colab": {
     "base_uri": "https://localhost:8080/",
     "height": 139
    },
    "colab_type": "code",
    "id": "0txNikwnMVZJ",
    "outputId": "f6694f41-53a2-4ca1-e5ce-b5aa3f6da4a6"
   },
   "outputs": [
    {
     "data": {
      "text/plain": [
       "DISCIPLINA\n",
       "acionamentos eletricos                             0.090909\n",
       "acumuladores de energia                            0.250000\n",
       "administracao municipal e desenvolvimento local    0.000000\n",
       "aerodinamica i                                     0.071429\n",
       "aeroelasticidade                                   0.000000\n",
       "dtype: float64"
      ]
     },
     "execution_count": 158,
     "metadata": {},
     "output_type": "execute_result"
    }
   ],
   "source": [
    "porcent_abando.head()"
   ]
  },
  {
   "cell_type": "markdown",
   "metadata": {
    "colab_type": "text",
    "id": "_z-LxXEsRIGC"
   },
   "source": [
    "## 7  Diferença por quadrimestre da média de créditos global menos a quantidade no quadrimestre\n"
   ]
  },
  {
   "cell_type": "code",
   "execution_count": 159,
   "metadata": {
    "colab": {
     "base_uri": "https://localhost:8080/",
     "height": 139
    },
    "colab_type": "code",
    "id": "FOJhbYWeRul0",
    "outputId": "52111873-c36c-4f63-c1d2-1427dc93ade7"
   },
   "outputs": [
    {
     "data": {
      "text/plain": [
       "ID DO ALUNO  ANO     QUADRIMESTRE   \n",
       "1.0          2011.0  2º Quadrimestre    11\n",
       "                     3º Quadrimestre     9\n",
       "             2012.0  1º Quadrimestre    17\n",
       "                     2º Quadrimestre     8\n",
       "                     3º Quadrimestre    10\n",
       "             2013.0  1º Quadrimestre    10\n",
       "                     2º Quadrimestre     8\n",
       "                     3º Quadrimestre     4\n",
       "             2015.0  3º Quadrimestre    10\n",
       "             2016.0  1º Quadrimestre     7\n",
       "                     2º Quadrimestre    13\n",
       "                     3º Quadrimestre     6\n",
       "             2017.0  1º Quadrimestre    10\n",
       "                     2º Quadrimestre    13\n",
       "                     3º Quadrimestre    15\n",
       "2.0          2013.0  1º Quadrimestre     4\n",
       "                     2º Quadrimestre    10\n",
       "Name: CRED, dtype: int64"
      ]
     },
     "execution_count": 159,
     "metadata": {},
     "output_type": "execute_result"
    }
   ],
   "source": [
    "quantCredPorQuadrimestre = tratado_02.groupby(['ID DO ALUNO','ANO','QUADRIMESTRE'])['CRED'].apply(sum)\n",
    "\n",
    "quantCredPorQuadrimestre.head(17)"
   ]
  },
  {
   "cell_type": "code",
   "execution_count": 160,
   "metadata": {
    "colab": {
     "base_uri": "https://localhost:8080/",
     "height": 139
    },
    "colab_type": "code",
    "id": "fMWuD_NPSoHN",
    "outputId": "3be7bc69-c365-4c28-f493-81cb22f133cd"
   },
   "outputs": [
    {
     "data": {
      "text/plain": [
       "ID DO ALUNO\n",
       "1.0    10.066667\n",
       "2.0    10.266667\n",
       "3.0    10.142857\n",
       "4.0    10.607143\n",
       "5.0    10.576923\n",
       "Name: CRED, dtype: float64"
      ]
     },
     "execution_count": 160,
     "metadata": {},
     "output_type": "execute_result"
    }
   ],
   "source": [
    "media = quantCredPorQuadrimestre.reset_index().groupby(['ID DO ALUNO'])['CRED'].apply(np.mean)\n",
    "media.head()"
   ]
  },
  {
   "cell_type": "code",
   "execution_count": 161,
   "metadata": {
    "colab": {},
    "colab_type": "code",
    "id": "RgqBJMbdT8ts"
   },
   "outputs": [
    {
     "data": {
      "text/plain": [
       "ID DO ALUNO  ANO     QUADRIMESTRE   \n",
       "1.0          2011.0  2º Quadrimestre    0.933333\n",
       "                     3º Quadrimestre   -1.066667\n",
       "             2012.0  1º Quadrimestre    6.933333\n",
       "                     2º Quadrimestre   -2.066667\n",
       "                     3º Quadrimestre   -0.066667\n",
       "             2013.0  1º Quadrimestre   -0.066667\n",
       "                     2º Quadrimestre   -2.066667\n",
       "                     3º Quadrimestre   -6.066667\n",
       "             2015.0  3º Quadrimestre   -0.066667\n",
       "             2016.0  1º Quadrimestre   -3.066667\n",
       "                     2º Quadrimestre    2.933333\n",
       "                     3º Quadrimestre   -4.066667\n",
       "             2017.0  1º Quadrimestre   -0.066667\n",
       "                     2º Quadrimestre    2.933333\n",
       "                     3º Quadrimestre    4.933333\n",
       "2.0          2013.0  1º Quadrimestre   -6.266667\n",
       "                     2º Quadrimestre   -0.266667\n",
       "Name: CRED, dtype: float64"
      ]
     },
     "execution_count": 161,
     "metadata": {},
     "output_type": "execute_result"
    }
   ],
   "source": [
    "diferencaMedia = quantCredPorQuadrimestre - media\n",
    "diferencaMedia.head(17)"
   ]
  },
  {
   "cell_type": "markdown",
   "metadata": {
    "colab_type": "text",
    "id": "qYtmqyjURXxb"
   },
   "source": [
    "## 8.  z-score entre a quantidade créditos cursadas;  \n"
   ]
  },
  {
   "cell_type": "code",
   "execution_count": 162,
   "metadata": {
    "colab": {
     "base_uri": "https://localhost:8080/",
     "height": 139
    },
    "colab_type": "code",
    "id": "XxeoTlhMV6AE",
    "outputId": "66e18134-16fd-459d-8529-a5c793c4ad9d"
   },
   "outputs": [
    {
     "data": {
      "text/plain": [
       "ID DO ALUNO  ANO     QUADRIMESTRE   \n",
       "1.0          2011.0  2º Quadrimestre    0.283190\n",
       "                     3º Quadrimestre   -0.323645\n",
       "             2012.0  1º Quadrimestre    2.103695\n",
       "                     2º Quadrimestre   -0.627063\n",
       "                     3º Quadrimestre   -0.020228\n",
       "Name: CRED, dtype: float64"
      ]
     },
     "execution_count": 162,
     "metadata": {},
     "output_type": "execute_result"
    }
   ],
   "source": [
    "std = quantCredPorQuadrimestre.reset_index().groupby(['ID DO ALUNO'])['CRED'].apply(np.std)\n",
    "\n",
    "z_score_creditos = (quantCredPorQuadrimestre - media)/std\n",
    "\n",
    "z_score_creditos.head()\n",
    "\n",
    "#Conferencia com a implementação oficial:\n",
    "#quantCredPorQuadrimestre.reset_index().groupby(['ID DO ALUNO'])['CRED'].apply(sci.stats.zscore)\n",
    "#bate, mas formatação estranha."
   ]
  },
  {
   "cell_type": "markdown",
   "metadata": {
    "colab_type": "text",
    "id": "HdQn7_83Vxwz"
   },
   "source": [
    "# Juntando em um único dataset"
   ]
  },
  {
   "cell_type": "code",
   "execution_count": 163,
   "metadata": {
    "colab": {
     "base_uri": "https://localhost:8080/",
     "height": 121
    },
    "colab_type": "code",
    "id": "5WGElqX4XGlM",
    "outputId": "9f98d19c-4b7a-4aef-ff8e-48ffebd4e658"
   },
   "outputs": [
    {
     "data": {
      "text/plain": [
       "Index(['ID DO ALUNO', 'ANO', 'QUADRIMESTRE', 'DISCIPLINA', 'COD_DISCIPLINA',\n",
       "       'CATEGORIA', 'A', 'B', 'C', 'D', 'F', 'O', 'ANO_QUAD', 'QUAD_CURSADO',\n",
       "       'ANOS_NA_UNIVER', 'SIGLA', 'T', 'P', 'I', 'RECOMENDAÇÃO', 'CRED', 'A_',\n",
       "       'B_', 'C_', 'D_', 'F_', 'O_', 'CONCEITO', 'CONCEITO_CRED', 'APROVADO',\n",
       "       'REPROVADO', 'ABANDONO'],\n",
       "      dtype='object')"
      ]
     },
     "execution_count": 163,
     "metadata": {},
     "output_type": "execute_result"
    }
   ],
   "source": [
    "tratado_02.columns\n",
    "\n"
   ]
  },
  {
   "cell_type": "code",
   "execution_count": 164,
   "metadata": {
    "colab": {},
    "colab_type": "code",
    "id": "KDyBXn_xaPK8"
   },
   "outputs": [],
   "source": [
    "porcent_aprov = porcent_aprov.reset_index()\n",
    "\n",
    "porcent_aprov.columns = ['DISCIPLINA','PORC_APROV']"
   ]
  },
  {
   "cell_type": "code",
   "execution_count": 165,
   "metadata": {
    "colab": {},
    "colab_type": "code",
    "id": "hWsjGS5ea8dj"
   },
   "outputs": [],
   "source": [
    "tratado_02 = tratado_02.merge(porcent_aprov,on='DISCIPLINA').sort_values(['ID DO ALUNO','ANO'])"
   ]
  },
  {
   "cell_type": "code",
   "execution_count": 166,
   "metadata": {
    "colab": {},
    "colab_type": "code",
    "id": "CbtRkKQ_aSIB"
   },
   "outputs": [],
   "source": [
    "porcent_reprov = porcent_reprov.reset_index()\n",
    "\n",
    "porcent_reprov.columns = ['DISCIPLINA','PORC_REPROV']\n",
    "\n",
    "tratado_02 = tratado_02.merge(porcent_reprov,on='DISCIPLINA').sort_values(['ID DO ALUNO','ANO'])\n",
    "\n",
    "porcent_abando = porcent_abando.reset_index()\n",
    "\n",
    "porcent_abando.columns = ['DISCIPLINA','PORC_ABANDO']\n",
    "\n",
    "tratado_02 = tratado_02.merge(porcent_abando,on='DISCIPLINA').sort_values(['ID DO ALUNO','ANO'])"
   ]
  },
  {
   "cell_type": "code",
   "execution_count": 167,
   "metadata": {
    "colab": {},
    "colab_type": "code",
    "id": "DGxc7yE0brnT"
   },
   "outputs": [],
   "source": [
    "quantCredPorQuadrimestre = quantCredPorQuadrimestre.reset_index()\n",
    "quantCredPorQuadrimestre.columns = ['ID DO ALUNO','ANO','QUADRIMESTRE','CRED_POR_QUAD']\n"
   ]
  },
  {
   "cell_type": "code",
   "execution_count": 168,
   "metadata": {
    "colab": {},
    "colab_type": "code",
    "id": "7IDP-Tr_cMwr"
   },
   "outputs": [],
   "source": [
    "tratado_02 = tratado_02.merge(quantCredPorQuadrimestre,on=['ID DO ALUNO','ANO','QUADRIMESTRE']).sort_values(['ID DO ALUNO','ANO','QUADRIMESTRE']) "
   ]
  },
  {
   "cell_type": "code",
   "execution_count": 169,
   "metadata": {
    "colab": {},
    "colab_type": "code",
    "id": "_nDdAslVcqgV"
   },
   "outputs": [],
   "source": [
    "diferencaMedia = diferencaMedia.reset_index()\n",
    "diferencaMedia.columns = ['ID DO ALUNO','ANO','QUADRIMESTRE','DIFERENCA_A_MEDIA']\n",
    "\n",
    "tratado_02 = tratado_02.merge(diferencaMedia,on=['ID DO ALUNO','ANO','QUADRIMESTRE']).sort_values(['ID DO ALUNO','ANO','QUADRIMESTRE']) "
   ]
  },
  {
   "cell_type": "code",
   "execution_count": 170,
   "metadata": {
    "colab": {},
    "colab_type": "code",
    "id": "tBOZ35w4dFIE"
   },
   "outputs": [],
   "source": [
    "z_score_creditos = z_score_creditos.reset_index()\n",
    "z_score_creditos.columns = ['ID DO ALUNO','ANO','QUADRIMESTRE','Z_SCORE']\n",
    "\n",
    "tratado_02 = tratado_02.merge(z_score_creditos,on=['ID DO ALUNO','ANO','QUADRIMESTRE']).sort_values(['ID DO ALUNO','ANO','QUADRIMESTRE']) "
   ]
  },
  {
   "cell_type": "code",
   "execution_count": 171,
   "metadata": {
    "colab": {},
    "colab_type": "code",
    "id": "YlamvmYKdUYk"
   },
   "outputs": [],
   "source": [
    "cr_acumulado = cr_acumulado.reset_index()\n",
    "\n",
    "cr_acumulado.columns = ['ID DO ALUNO','CR_ACUMULADO']\n",
    "\n",
    "tratado_02 = tratado_02.merge(cr_acumulado,on=['ID DO ALUNO']).sort_values(['ID DO ALUNO','ANO','QUADRIMESTRE']) "
   ]
  },
  {
   "cell_type": "code",
   "execution_count": 172,
   "metadata": {
    "colab": {},
    "colab_type": "code",
    "id": "buMOUJ6DeEsK"
   },
   "outputs": [],
   "source": [
    "cr_por_quadrimestre = cr_por_quadrimestre.reset_index()\n",
    "\n",
    "cr_por_quadrimestre.columns = ['ID DO ALUNO','ANO','QUADRIMESTRE','CR_QUAD']\n",
    "\n",
    "tratado_02 = tratado_02.merge(cr_por_quadrimestre,on=['ID DO ALUNO','ANO','QUADRIMESTRE']).sort_values(['ID DO ALUNO','ANO','QUADRIMESTRE']) "
   ]
  },
  {
   "cell_type": "code",
   "execution_count": 173,
   "metadata": {
    "colab": {},
    "colab_type": "code",
    "id": "9ECK5dtKd-8p"
   },
   "outputs": [],
   "source": [
    "cr_por_ano = cr_por_ano.reset_index()\n",
    "\n",
    "cr_por_ano.columns = ['ID DO ALUNO', 'ANO', 'CR_POR_ANO']\n",
    "\n",
    "tratado_02 = tratado_02.merge(cr_por_ano,on=['ID DO ALUNO','ANO']).sort_values(['ID DO ALUNO','ANO','QUADRIMESTRE']) "
   ]
  },
  {
   "cell_type": "code",
   "execution_count": 174,
   "metadata": {},
   "outputs": [],
   "source": [
    "cr_cumsum_reduce = cr_cumsum_reduce.reset_index()\n",
    "\n",
    "cr_cumsum_reduce.columns = ['ID DO ALUNO','ANO', 'QUADRIMESTRE', 'CR_ATE_QUAD_ANTERIOR']\n",
    "\n",
    "tratado_02 = tratado_02.merge(cr_cumsum_reduce,on=['ID DO ALUNO','ANO','QUADRIMESTRE']).sort_values(['ID DO ALUNO','ANO','QUADRIMESTRE']) "
   ]
  },
  {
   "cell_type": "code",
   "execution_count": 175,
   "metadata": {
    "colab": {},
    "colab_type": "code",
    "id": "Wwu6jevmesgE"
   },
   "outputs": [],
   "source": [
    "tratado_03 = tratado_02.drop(['A_','B_','C_', 'D_', 'F_', 'O_','RECOMENDAÇÃO'],axis=1)"
   ]
  },
  {
   "cell_type": "code",
   "execution_count": 176,
   "metadata": {
    "colab": {},
    "colab_type": "code",
    "id": "6pXMUvBBfWKA"
   },
   "outputs": [],
   "source": [
    "tratado_03 = tratado_03[['ID DO ALUNO', 'ANO', 'QUADRIMESTRE', 'DISCIPLINA', \n",
    "            'COD_DISCIPLINA','CATEGORIA','ANO_QUAD', 'QUAD_CURSADO',\n",
    "            'ANOS_NA_UNIVER', 'SIGLA', 'T', 'P', 'I', \n",
    "            'CRED', 'CONCEITO', 'CONCEITO_CRED',\n",
    "           'PORC_APROV', 'PORC_REPROV', 'PORC_ABANDO', 'CRED_POR_QUAD',\n",
    "           'DIFERENCA_A_MEDIA', 'Z_SCORE', 'CR_ACUMULADO', 'CR_QUAD','CR_ATE_QUAD_ANTERIOR',\n",
    "           'CR_POR_ANO', 'A', 'B', 'C', 'D', 'F', 'O',\n",
    "            'APROVADO', 'REPROVADO', 'ABANDONO']]"
   ]
  },
  {
   "cell_type": "code",
   "execution_count": 178,
   "metadata": {
    "colab": {},
    "colab_type": "code",
    "id": "1--K4MoegE0C"
   },
   "outputs": [],
   "source": [
    "tratado_03.to_csv(\"dataset.csv\",sep=\"|\")\n",
    "#from google.colab import files\n"
   ]
  },
  {
   "cell_type": "code",
   "execution_count": null,
   "metadata": {
    "colab": {},
    "colab_type": "code",
    "id": "vZLdxNPdgSBP"
   },
   "outputs": [],
   "source": [
    "#files.download('dataset.csv')"
   ]
  }
 ],
 "metadata": {
  "colab": {
   "collapsed_sections": [],
   "include_colab_link": true,
   "name": "EDA",
   "provenance": [],
   "version": "0.3.2"
  },
  "kernelspec": {
   "display_name": "Python 3",
   "language": "python",
   "name": "python3"
  },
  "language_info": {
   "codemirror_mode": {
    "name": "ipython",
    "version": 3
   },
   "file_extension": ".py",
   "mimetype": "text/x-python",
   "name": "python",
   "nbconvert_exporter": "python",
   "pygments_lexer": "ipython3",
   "version": "3.7.0"
  }
 },
 "nbformat": 4,
 "nbformat_minor": 1
}
