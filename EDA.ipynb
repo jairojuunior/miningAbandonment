{
  "nbformat": 4,
  "nbformat_minor": 0,
  "metadata": {
    "colab": {
      "name": "EDA",
      "version": "0.3.2",
      "provenance": [],
      "collapsed_sections": [],
      "include_colab_link": true
    },
    "kernelspec": {
      "display_name": "Python 3",
      "language": "python",
      "name": "python3"
    }
  },
  "cells": [
    {
      "cell_type": "markdown",
      "metadata": {
        "id": "view-in-github",
        "colab_type": "text"
      },
      "source": [
        "<a href=\"https://colab.research.google.com/github/bruAristimunha/miningAbandonment/blob/master/EDA.ipynb\" target=\"_parent\"><img src=\"https://colab.research.google.com/assets/colab-badge.svg\" alt=\"Open In Colab\"/></a>"
      ]
    },
    {
      "cell_type": "code",
      "metadata": {
        "id": "vfOL-Cj1tK8X",
        "colab_type": "code",
        "colab": {}
      },
      "source": [
        "#bibliotecas empregadas nessa analise de dados\n",
        "import pandas as pd\n",
        "import matplotlib.pylab as plt\n",
        "import seaborn as sns\n",
        "import numpy as np\n",
        "import scipy as sci\n",
        "import sklearn.preprocessing as sk # LabelEnconder"
      ],
      "execution_count": 0,
      "outputs": []
    },
    {
      "cell_type": "markdown",
      "metadata": {
        "id": "6969qfV5sfbC",
        "colab_type": "text"
      },
      "source": [
        "O presente conjunto de dados foi obtido conforme a [descrição](https://github.com/bruAristimunha/miningAbandonment) do projeto.\n",
        "\n",
        "\n",
        "Apesar de o documento estar consistente. Há padrões de formatações indesejados para os algoritmos empregados nessa análise. Como, por exemplo, apenas informação sobre o **ID** em uma linha e as demais com valores faltantes, ou a falta de informação sobre os créditos das disciplinas.\n",
        "\n",
        "\n",
        "Mesmo considerando que canal de obtenção de informação estar disponível, optamos pelo pre-processamento da informação levando em consideração o tempo de resposta."
      ]
    },
    {
      "cell_type": "code",
      "metadata": {
        "id": "uMxoGDsktK8l",
        "colab_type": "code",
        "outputId": "f3b285bb-e48e-4e02-a437-f8e0af947cdb",
        "colab": {
          "base_uri": "https://localhost:8080/",
          "height": 206
        }
      },
      "source": [
        "link = \"https://raw.githubusercontent.com/bruAristimunha/miningAbandonment/master/data/bcc.csv\"\n",
        "dados =  pd.read_csv(link,sep=\";\")\n",
        "dados.head()"
      ],
      "execution_count": 2,
      "outputs": [
        {
          "output_type": "execute_result",
          "data": {
            "text/html": [
              "<div>\n",
              "<style scoped>\n",
              "    .dataframe tbody tr th:only-of-type {\n",
              "        vertical-align: middle;\n",
              "    }\n",
              "\n",
              "    .dataframe tbody tr th {\n",
              "        vertical-align: top;\n",
              "    }\n",
              "\n",
              "    .dataframe thead th {\n",
              "        text-align: right;\n",
              "    }\n",
              "</style>\n",
              "<table border=\"1\" class=\"dataframe\">\n",
              "  <thead>\n",
              "    <tr style=\"text-align: right;\">\n",
              "      <th></th>\n",
              "      <th>ID DO ALUNO</th>\n",
              "      <th>ANO</th>\n",
              "      <th>QUADRIMESTRE</th>\n",
              "      <th>NOME_DISCIPLINA</th>\n",
              "      <th>COD_DISCIPLINA</th>\n",
              "      <th>CATEGORIA</th>\n",
              "      <th>A</th>\n",
              "      <th>B</th>\n",
              "      <th>C</th>\n",
              "      <th>D</th>\n",
              "      <th>F</th>\n",
              "      <th>O</th>\n",
              "    </tr>\n",
              "  </thead>\n",
              "  <tbody>\n",
              "    <tr>\n",
              "      <th>0</th>\n",
              "      <td>1.0</td>\n",
              "      <td>2011.0</td>\n",
              "      <td>2º Quadrimestre</td>\n",
              "      <td>Bases Computacionais da Ciência</td>\n",
              "      <td>BIM0005-13</td>\n",
              "      <td>Obrigatória</td>\n",
              "      <td>NaN</td>\n",
              "      <td>NaN</td>\n",
              "      <td>NaN</td>\n",
              "      <td>1.0</td>\n",
              "      <td>NaN</td>\n",
              "      <td>NaN</td>\n",
              "    </tr>\n",
              "    <tr>\n",
              "      <th>1</th>\n",
              "      <td>NaN</td>\n",
              "      <td>NaN</td>\n",
              "      <td>NaN</td>\n",
              "      <td>Bases Matemáticas</td>\n",
              "      <td>BIN0003-13</td>\n",
              "      <td>Obrigatória</td>\n",
              "      <td>NaN</td>\n",
              "      <td>NaN</td>\n",
              "      <td>NaN</td>\n",
              "      <td>NaN</td>\n",
              "      <td>1.0</td>\n",
              "      <td>NaN</td>\n",
              "    </tr>\n",
              "    <tr>\n",
              "      <th>2</th>\n",
              "      <td>NaN</td>\n",
              "      <td>NaN</td>\n",
              "      <td>NaN</td>\n",
              "      <td>Iniciação à Pesquisa Científica I</td>\n",
              "      <td>ESZX129-13</td>\n",
              "      <td>Opção Limitada</td>\n",
              "      <td>1.0</td>\n",
              "      <td>NaN</td>\n",
              "      <td>NaN</td>\n",
              "      <td>NaN</td>\n",
              "      <td>NaN</td>\n",
              "      <td>NaN</td>\n",
              "    </tr>\n",
              "    <tr>\n",
              "      <th>3</th>\n",
              "      <td>NaN</td>\n",
              "      <td>NaN</td>\n",
              "      <td>NaN</td>\n",
              "      <td>Origem da Vida e Diversidade dos Seres Vivos</td>\n",
              "      <td>BIL0304-13</td>\n",
              "      <td>Obrigatória</td>\n",
              "      <td>NaN</td>\n",
              "      <td>1.0</td>\n",
              "      <td>NaN</td>\n",
              "      <td>NaN</td>\n",
              "      <td>NaN</td>\n",
              "      <td>NaN</td>\n",
              "    </tr>\n",
              "    <tr>\n",
              "      <th>4</th>\n",
              "      <td>NaN</td>\n",
              "      <td>NaN</td>\n",
              "      <td>3º Quadrimestre</td>\n",
              "      <td>Geometria Analítica</td>\n",
              "      <td>BCN0404-13</td>\n",
              "      <td>Obrigatória</td>\n",
              "      <td>NaN</td>\n",
              "      <td>NaN</td>\n",
              "      <td>NaN</td>\n",
              "      <td>NaN</td>\n",
              "      <td>1.0</td>\n",
              "      <td>NaN</td>\n",
              "    </tr>\n",
              "  </tbody>\n",
              "</table>\n",
              "</div>"
            ],
            "text/plain": [
              "   ID DO ALUNO     ANO     QUADRIMESTRE  \\\n",
              "0          1.0  2011.0  2º Quadrimestre   \n",
              "1          NaN     NaN              NaN   \n",
              "2          NaN     NaN              NaN   \n",
              "3          NaN     NaN              NaN   \n",
              "4          NaN     NaN  3º Quadrimestre   \n",
              "\n",
              "                                NOME_DISCIPLINA COD_DISCIPLINA  \\\n",
              "0               Bases Computacionais da Ciência     BIM0005-13   \n",
              "1                             Bases Matemáticas     BIN0003-13   \n",
              "2             Iniciação à Pesquisa Científica I     ESZX129-13   \n",
              "3  Origem da Vida e Diversidade dos Seres Vivos     BIL0304-13   \n",
              "4                           Geometria Analítica     BCN0404-13   \n",
              "\n",
              "        CATEGORIA    A    B   C    D    F   O  \n",
              "0     Obrigatória  NaN  NaN NaN  1.0  NaN NaN  \n",
              "1     Obrigatória  NaN  NaN NaN  NaN  1.0 NaN  \n",
              "2  Opção Limitada  1.0  NaN NaN  NaN  NaN NaN  \n",
              "3     Obrigatória  NaN  1.0 NaN  NaN  NaN NaN  \n",
              "4     Obrigatória  NaN  NaN NaN  NaN  1.0 NaN  "
            ]
          },
          "metadata": {
            "tags": []
          },
          "execution_count": 2
        }
      ]
    },
    {
      "cell_type": "markdown",
      "metadata": {
        "id": "RCUENAG-uTcc",
        "colab_type": "text"
      },
      "source": [
        "Observamos dois padrões de preenchimento distintos ao que chamamos de identificação (aluno, ano, quadrimestre) e o conceitos obtidos. \n",
        "\n",
        "Para tanto, realizamos a separação dos dados e para o preenchimento dos valores faltantes de formas diferentes."
      ]
    },
    {
      "cell_type": "code",
      "metadata": {
        "id": "nHBrkcaVtK82",
        "colab_type": "code",
        "colab": {}
      },
      "source": [
        "#Inicialmente separamos os conceitos dos alunos, removendo todos as informações\n",
        "#que não estão relacionadas aos conceitos.\n",
        "conceitos = dados.drop(['ID DO ALUNO', 'ANO', \n",
        "                        'QUADRIMESTRE', 'NOME_DISCIPLINA', \n",
        "                        'COD_DISCIPLINA', 'CATEGORIA'],axis=1).copy()\n",
        "\n",
        "#Preenchemos os valores faltantes com valores 0.\n",
        "conceitos = conceitos.fillna(0)\n",
        "\n",
        "#repetimos o mesmo processo com complemento dos dados\n",
        "identificacao = dados.drop(['A','B','C','D','F','O'],axis=1).copy()\n",
        "\n",
        "#Sempre que há um valor faltante se preenche com o valor na linha superior \n",
        "#da mesma coluna\n",
        "identificacao = identificacao.fillna(method='ffill')"
      ],
      "execution_count": 0,
      "outputs": []
    },
    {
      "cell_type": "code",
      "metadata": {
        "id": "KO7ZKgwttK9A",
        "colab_type": "code",
        "colab": {}
      },
      "source": [
        "#Juntamos esses dois conjuntos preenchidos com regras de negócio distantas na \n",
        "#variável tratada\n",
        "tratado = pd.concat([identificacao,conceitos],axis=1)\n",
        "\n",
        "#Ao lidar com string e por consequencia comparações entre, realizamos uma série \n",
        "#de padronizações visando tratar erros de grafia, ou variações por acentuação\n",
        "\n",
        "#Remoção de acentos\n",
        "tratado['NOME_DISCIPLINA'] = tratado['NOME_DISCIPLINA'].str.normalize('NFKD')\n",
        "\n",
        "#Para minusculas\n",
        "tratado['NOME_DISCIPLINA'] = tratado['NOME_DISCIPLINA'].str.lower()\n",
        "\n",
        "#Encondificação para ASCII ignorando erros\n",
        "tratado['NOME_DISCIPLINA'] = tratado['NOME_DISCIPLINA'].str.encode('ascii', \n",
        "                                                                errors='ignore')\n",
        "\n",
        "#Decoficação para UTF-8, formato mais empregado nessa categoria de análise\n",
        "tratado['NOME_DISCIPLINA'] = tratado['NOME_DISCIPLINA'].str.decode('utf-8')\n",
        "\n"
      ],
      "execution_count": 0,
      "outputs": []
    },
    {
      "cell_type": "code",
      "metadata": {
        "id": "d3AFYD8tw_N0",
        "colab_type": "code",
        "colab": {
          "base_uri": "https://localhost:8080/",
          "height": 206
        },
        "outputId": "ce12ad96-78c3-46cd-b9b5-5f8cba8c7bb5"
      },
      "source": [
        "#Resultado após o processo de preenchimento e padronização\n",
        "tratado.head()"
      ],
      "execution_count": 5,
      "outputs": [
        {
          "output_type": "execute_result",
          "data": {
            "text/html": [
              "<div>\n",
              "<style scoped>\n",
              "    .dataframe tbody tr th:only-of-type {\n",
              "        vertical-align: middle;\n",
              "    }\n",
              "\n",
              "    .dataframe tbody tr th {\n",
              "        vertical-align: top;\n",
              "    }\n",
              "\n",
              "    .dataframe thead th {\n",
              "        text-align: right;\n",
              "    }\n",
              "</style>\n",
              "<table border=\"1\" class=\"dataframe\">\n",
              "  <thead>\n",
              "    <tr style=\"text-align: right;\">\n",
              "      <th></th>\n",
              "      <th>ID DO ALUNO</th>\n",
              "      <th>ANO</th>\n",
              "      <th>QUADRIMESTRE</th>\n",
              "      <th>NOME_DISCIPLINA</th>\n",
              "      <th>COD_DISCIPLINA</th>\n",
              "      <th>CATEGORIA</th>\n",
              "      <th>A</th>\n",
              "      <th>B</th>\n",
              "      <th>C</th>\n",
              "      <th>D</th>\n",
              "      <th>F</th>\n",
              "      <th>O</th>\n",
              "    </tr>\n",
              "  </thead>\n",
              "  <tbody>\n",
              "    <tr>\n",
              "      <th>0</th>\n",
              "      <td>1.0</td>\n",
              "      <td>2011.0</td>\n",
              "      <td>2º Quadrimestre</td>\n",
              "      <td>bases computacionais da ciencia</td>\n",
              "      <td>BIM0005-13</td>\n",
              "      <td>Obrigatória</td>\n",
              "      <td>0.0</td>\n",
              "      <td>0.0</td>\n",
              "      <td>0.0</td>\n",
              "      <td>1.0</td>\n",
              "      <td>0.0</td>\n",
              "      <td>0.0</td>\n",
              "    </tr>\n",
              "    <tr>\n",
              "      <th>1</th>\n",
              "      <td>1.0</td>\n",
              "      <td>2011.0</td>\n",
              "      <td>2º Quadrimestre</td>\n",
              "      <td>bases matematicas</td>\n",
              "      <td>BIN0003-13</td>\n",
              "      <td>Obrigatória</td>\n",
              "      <td>0.0</td>\n",
              "      <td>0.0</td>\n",
              "      <td>0.0</td>\n",
              "      <td>0.0</td>\n",
              "      <td>1.0</td>\n",
              "      <td>0.0</td>\n",
              "    </tr>\n",
              "    <tr>\n",
              "      <th>2</th>\n",
              "      <td>1.0</td>\n",
              "      <td>2011.0</td>\n",
              "      <td>2º Quadrimestre</td>\n",
              "      <td>iniciacao a pesquisa cientifica i</td>\n",
              "      <td>ESZX129-13</td>\n",
              "      <td>Opção Limitada</td>\n",
              "      <td>1.0</td>\n",
              "      <td>0.0</td>\n",
              "      <td>0.0</td>\n",
              "      <td>0.0</td>\n",
              "      <td>0.0</td>\n",
              "      <td>0.0</td>\n",
              "    </tr>\n",
              "    <tr>\n",
              "      <th>3</th>\n",
              "      <td>1.0</td>\n",
              "      <td>2011.0</td>\n",
              "      <td>2º Quadrimestre</td>\n",
              "      <td>origem da vida e diversidade dos seres vivos</td>\n",
              "      <td>BIL0304-13</td>\n",
              "      <td>Obrigatória</td>\n",
              "      <td>0.0</td>\n",
              "      <td>1.0</td>\n",
              "      <td>0.0</td>\n",
              "      <td>0.0</td>\n",
              "      <td>0.0</td>\n",
              "      <td>0.0</td>\n",
              "    </tr>\n",
              "    <tr>\n",
              "      <th>4</th>\n",
              "      <td>1.0</td>\n",
              "      <td>2011.0</td>\n",
              "      <td>3º Quadrimestre</td>\n",
              "      <td>geometria analitica</td>\n",
              "      <td>BCN0404-13</td>\n",
              "      <td>Obrigatória</td>\n",
              "      <td>0.0</td>\n",
              "      <td>0.0</td>\n",
              "      <td>0.0</td>\n",
              "      <td>0.0</td>\n",
              "      <td>1.0</td>\n",
              "      <td>0.0</td>\n",
              "    </tr>\n",
              "  </tbody>\n",
              "</table>\n",
              "</div>"
            ],
            "text/plain": [
              "   ID DO ALUNO     ANO     QUADRIMESTRE  \\\n",
              "0          1.0  2011.0  2º Quadrimestre   \n",
              "1          1.0  2011.0  2º Quadrimestre   \n",
              "2          1.0  2011.0  2º Quadrimestre   \n",
              "3          1.0  2011.0  2º Quadrimestre   \n",
              "4          1.0  2011.0  3º Quadrimestre   \n",
              "\n",
              "                                NOME_DISCIPLINA COD_DISCIPLINA  \\\n",
              "0               bases computacionais da ciencia     BIM0005-13   \n",
              "1                             bases matematicas     BIN0003-13   \n",
              "2             iniciacao a pesquisa cientifica i     ESZX129-13   \n",
              "3  origem da vida e diversidade dos seres vivos     BIL0304-13   \n",
              "4                           geometria analitica     BCN0404-13   \n",
              "\n",
              "        CATEGORIA    A    B    C    D    F    O  \n",
              "0     Obrigatória  0.0  0.0  0.0  1.0  0.0  0.0  \n",
              "1     Obrigatória  0.0  0.0  0.0  0.0  1.0  0.0  \n",
              "2  Opção Limitada  1.0  0.0  0.0  0.0  0.0  0.0  \n",
              "3     Obrigatória  0.0  1.0  0.0  0.0  0.0  0.0  \n",
              "4     Obrigatória  0.0  0.0  0.0  0.0  1.0  0.0  "
            ]
          },
          "metadata": {
            "tags": []
          },
          "execution_count": 5
        }
      ]
    },
    {
      "cell_type": "markdown",
      "metadata": {
        "id": "jsU8IFQs03s1",
        "colab_type": "text"
      },
      "source": [
        "## Seguindo, optamos nessa etapa pela criação das seguintes variáveis.\n",
        "\n",
        "\n",
        "\n",
        "1.  Tempo na Universidade em Anos; [OK]\n",
        "2.  Quantidade de créditos por quadrimestre; [OK]\n",
        "3.  Coeficiente de rendimento por quadrimestre; [OK]\n",
        "4.  Coeficiente de rendimento por ano; [OK]\n",
        "5.  Coeficiente de rendimento atual; [OK]\n",
        "6.  Porcentagem de reprovação e abandono nas disciplinas; [OK]\n",
        "7  Diferença por quadrimestre da média de créditos global menos a quantidade no quadrimestre; [OK]\n",
        "8.  z-score entre a quantidade créditos cursadas; [OK]  \n",
        "9.  Distância entre o quadrimestre ideal e o quadrimestre cursado; [OK]\n"
      ]
    },
    {
      "cell_type": "markdown",
      "metadata": {
        "id": "gPJKz6QS3f4q",
        "colab_type": "text"
      },
      "source": [
        "###   1. Tempo na Universidade em Anos"
      ]
    },
    {
      "cell_type": "code",
      "metadata": {
        "id": "uH0GgcF63dDy",
        "colab_type": "code",
        "colab": {}
      },
      "source": [
        "#Junção de ano + quadrimestre\n",
        "tratado['ANO_QUAD']= tratado['ANO'].astype(str)+tratado['QUADRIMESTRE']\n",
        "\n",
        "#Quadrimestre cursado obtido pelo groupby por ALUNO, aplicando no ANO_QUAD \n",
        "#uma codificação para label através da função do Sklearn, \n",
        "#além de aplicar a concatenação desses multiplos groupbys + 1 \n",
        "tratado['QUAD_CURSADO'] = np.concatenate(tratado.groupby(\"ID DO ALUNO\")['ANO_QUAD'].apply(sk.LabelEncoder().fit_transform).values) + 1\n",
        "\n",
        "#Obteção dos anos na universidade dado a contagem de créditos.\n",
        "tratado['ANOS_NA_UNIVER'] = tratado['QUAD_CURSADO']//3"
      ],
      "execution_count": 0,
      "outputs": []
    },
    {
      "cell_type": "code",
      "metadata": {
        "id": "uvsRaRbn4SH3",
        "colab_type": "code",
        "colab": {
          "base_uri": "https://localhost:8080/",
          "height": 363
        },
        "outputId": "ef38fd80-7575-4ebd-ab94-6a462a59886b"
      },
      "source": [
        "tratado.head(5)"
      ],
      "execution_count": 7,
      "outputs": [
        {
          "output_type": "execute_result",
          "data": {
            "text/html": [
              "<div>\n",
              "<style scoped>\n",
              "    .dataframe tbody tr th:only-of-type {\n",
              "        vertical-align: middle;\n",
              "    }\n",
              "\n",
              "    .dataframe tbody tr th {\n",
              "        vertical-align: top;\n",
              "    }\n",
              "\n",
              "    .dataframe thead th {\n",
              "        text-align: right;\n",
              "    }\n",
              "</style>\n",
              "<table border=\"1\" class=\"dataframe\">\n",
              "  <thead>\n",
              "    <tr style=\"text-align: right;\">\n",
              "      <th></th>\n",
              "      <th>ID DO ALUNO</th>\n",
              "      <th>ANO</th>\n",
              "      <th>QUADRIMESTRE</th>\n",
              "      <th>NOME_DISCIPLINA</th>\n",
              "      <th>COD_DISCIPLINA</th>\n",
              "      <th>CATEGORIA</th>\n",
              "      <th>A</th>\n",
              "      <th>B</th>\n",
              "      <th>C</th>\n",
              "      <th>D</th>\n",
              "      <th>F</th>\n",
              "      <th>O</th>\n",
              "      <th>ANO_QUAD</th>\n",
              "      <th>QUAD_CURSADO</th>\n",
              "      <th>ANOS_NA_UNIVER</th>\n",
              "    </tr>\n",
              "  </thead>\n",
              "  <tbody>\n",
              "    <tr>\n",
              "      <th>0</th>\n",
              "      <td>1.0</td>\n",
              "      <td>2011.0</td>\n",
              "      <td>2º Quadrimestre</td>\n",
              "      <td>bases computacionais da ciencia</td>\n",
              "      <td>BIM0005-13</td>\n",
              "      <td>Obrigatória</td>\n",
              "      <td>0.0</td>\n",
              "      <td>0.0</td>\n",
              "      <td>0.0</td>\n",
              "      <td>1.0</td>\n",
              "      <td>0.0</td>\n",
              "      <td>0.0</td>\n",
              "      <td>2011.02º Quadrimestre</td>\n",
              "      <td>1</td>\n",
              "      <td>0</td>\n",
              "    </tr>\n",
              "    <tr>\n",
              "      <th>1</th>\n",
              "      <td>1.0</td>\n",
              "      <td>2011.0</td>\n",
              "      <td>2º Quadrimestre</td>\n",
              "      <td>bases matematicas</td>\n",
              "      <td>BIN0003-13</td>\n",
              "      <td>Obrigatória</td>\n",
              "      <td>0.0</td>\n",
              "      <td>0.0</td>\n",
              "      <td>0.0</td>\n",
              "      <td>0.0</td>\n",
              "      <td>1.0</td>\n",
              "      <td>0.0</td>\n",
              "      <td>2011.02º Quadrimestre</td>\n",
              "      <td>1</td>\n",
              "      <td>0</td>\n",
              "    </tr>\n",
              "    <tr>\n",
              "      <th>2</th>\n",
              "      <td>1.0</td>\n",
              "      <td>2011.0</td>\n",
              "      <td>2º Quadrimestre</td>\n",
              "      <td>iniciacao a pesquisa cientifica i</td>\n",
              "      <td>ESZX129-13</td>\n",
              "      <td>Opção Limitada</td>\n",
              "      <td>1.0</td>\n",
              "      <td>0.0</td>\n",
              "      <td>0.0</td>\n",
              "      <td>0.0</td>\n",
              "      <td>0.0</td>\n",
              "      <td>0.0</td>\n",
              "      <td>2011.02º Quadrimestre</td>\n",
              "      <td>1</td>\n",
              "      <td>0</td>\n",
              "    </tr>\n",
              "    <tr>\n",
              "      <th>3</th>\n",
              "      <td>1.0</td>\n",
              "      <td>2011.0</td>\n",
              "      <td>2º Quadrimestre</td>\n",
              "      <td>origem da vida e diversidade dos seres vivos</td>\n",
              "      <td>BIL0304-13</td>\n",
              "      <td>Obrigatória</td>\n",
              "      <td>0.0</td>\n",
              "      <td>1.0</td>\n",
              "      <td>0.0</td>\n",
              "      <td>0.0</td>\n",
              "      <td>0.0</td>\n",
              "      <td>0.0</td>\n",
              "      <td>2011.02º Quadrimestre</td>\n",
              "      <td>1</td>\n",
              "      <td>0</td>\n",
              "    </tr>\n",
              "    <tr>\n",
              "      <th>4</th>\n",
              "      <td>1.0</td>\n",
              "      <td>2011.0</td>\n",
              "      <td>3º Quadrimestre</td>\n",
              "      <td>geometria analitica</td>\n",
              "      <td>BCN0404-13</td>\n",
              "      <td>Obrigatória</td>\n",
              "      <td>0.0</td>\n",
              "      <td>0.0</td>\n",
              "      <td>0.0</td>\n",
              "      <td>0.0</td>\n",
              "      <td>1.0</td>\n",
              "      <td>0.0</td>\n",
              "      <td>2011.03º Quadrimestre</td>\n",
              "      <td>2</td>\n",
              "      <td>0</td>\n",
              "    </tr>\n",
              "  </tbody>\n",
              "</table>\n",
              "</div>"
            ],
            "text/plain": [
              "   ID DO ALUNO     ANO     QUADRIMESTRE  \\\n",
              "0          1.0  2011.0  2º Quadrimestre   \n",
              "1          1.0  2011.0  2º Quadrimestre   \n",
              "2          1.0  2011.0  2º Quadrimestre   \n",
              "3          1.0  2011.0  2º Quadrimestre   \n",
              "4          1.0  2011.0  3º Quadrimestre   \n",
              "\n",
              "                                NOME_DISCIPLINA COD_DISCIPLINA  \\\n",
              "0               bases computacionais da ciencia     BIM0005-13   \n",
              "1                             bases matematicas     BIN0003-13   \n",
              "2             iniciacao a pesquisa cientifica i     ESZX129-13   \n",
              "3  origem da vida e diversidade dos seres vivos     BIL0304-13   \n",
              "4                           geometria analitica     BCN0404-13   \n",
              "\n",
              "        CATEGORIA    A    B    C    D    F    O               ANO_QUAD  \\\n",
              "0     Obrigatória  0.0  0.0  0.0  1.0  0.0  0.0  2011.02º Quadrimestre   \n",
              "1     Obrigatória  0.0  0.0  0.0  0.0  1.0  0.0  2011.02º Quadrimestre   \n",
              "2  Opção Limitada  1.0  0.0  0.0  0.0  0.0  0.0  2011.02º Quadrimestre   \n",
              "3     Obrigatória  0.0  1.0  0.0  0.0  0.0  0.0  2011.02º Quadrimestre   \n",
              "4     Obrigatória  0.0  0.0  0.0  0.0  1.0  0.0  2011.03º Quadrimestre   \n",
              "\n",
              "   QUAD_CURSADO  ANOS_NA_UNIVER  \n",
              "0             1               0  \n",
              "1             1               0  \n",
              "2             1               0  \n",
              "3             1               0  \n",
              "4             2               0  "
            ]
          },
          "metadata": {
            "tags": []
          },
          "execution_count": 7
        }
      ]
    },
    {
      "cell_type": "markdown",
      "metadata": {
        "id": "5SOVDRYv6ekN",
        "colab_type": "text"
      },
      "source": [
        "## 2. Quantidade de créditos por quadrimestre;\n",
        "\n",
        "Para essa análise necessitamos da quantidade créditos teóricos, práticos e individuais de cada disciplinas. Para tanto, buscamos o [catálogo de disciplinas](prograd.ufabc.edu.br/pdf/catalogo_disciplinas_grad>uacao_2017_2018_v2.xlsx) da universidade. Removemos as informações sobre as ementas desse arquivo anteriormente."
      ]
    },
    {
      "cell_type": "code",
      "metadata": {
        "id": "C1gySSuA-t7p",
        "colab_type": "code",
        "colab": {
          "base_uri": "https://localhost:8080/",
          "height": 206
        },
        "outputId": "5e5529de-2580-4450-c0ff-8770511d22bb"
      },
      "source": [
        "catalogo = 'https://raw.githubusercontent.com/bruAristimunha/miningAbandonment/master/data/catalogo_disciplinas_graduacao_2017_2018.csv'\n",
        "disciplinas = pd.read_csv(catalogo, sep=\"|\")\n",
        "disciplinas.head()"
      ],
      "execution_count": 8,
      "outputs": [
        {
          "output_type": "execute_result",
          "data": {
            "text/html": [
              "<div>\n",
              "<style scoped>\n",
              "    .dataframe tbody tr th:only-of-type {\n",
              "        vertical-align: middle;\n",
              "    }\n",
              "\n",
              "    .dataframe tbody tr th {\n",
              "        vertical-align: top;\n",
              "    }\n",
              "\n",
              "    .dataframe thead th {\n",
              "        text-align: right;\n",
              "    }\n",
              "</style>\n",
              "<table border=\"1\" class=\"dataframe\">\n",
              "  <thead>\n",
              "    <tr style=\"text-align: right;\">\n",
              "      <th></th>\n",
              "      <th>SIGLA</th>\n",
              "      <th>DISCIPLINA</th>\n",
              "      <th>T</th>\n",
              "      <th>P</th>\n",
              "      <th>I</th>\n",
              "      <th>RECOMENDAÇÃO</th>\n",
              "    </tr>\n",
              "  </thead>\n",
              "  <tbody>\n",
              "    <tr>\n",
              "      <th>0</th>\n",
              "      <td>ESHR022-14</td>\n",
              "      <td>Abordagens Tradicionais das Relações Internaci...</td>\n",
              "      <td>4</td>\n",
              "      <td>0</td>\n",
              "      <td>4</td>\n",
              "      <td>Não há</td>\n",
              "    </tr>\n",
              "    <tr>\n",
              "      <th>1</th>\n",
              "      <td>ESZM035-17</td>\n",
              "      <td>Aditivação de Polímeros</td>\n",
              "      <td>4</td>\n",
              "      <td>0</td>\n",
              "      <td>4</td>\n",
              "      <td>Síntese de Polímeros; Materiais Poliméricos</td>\n",
              "    </tr>\n",
              "    <tr>\n",
              "      <th>2</th>\n",
              "      <td>ESZP041-14</td>\n",
              "      <td>Administração Pública e Reforma do Estado em P...</td>\n",
              "      <td>4</td>\n",
              "      <td>0</td>\n",
              "      <td>4</td>\n",
              "      <td>Não há</td>\n",
              "    </tr>\n",
              "    <tr>\n",
              "      <th>3</th>\n",
              "      <td>ESTS016-17</td>\n",
              "      <td>Aerodinâmica I</td>\n",
              "      <td>4</td>\n",
              "      <td>0</td>\n",
              "      <td>5</td>\n",
              "      <td>Dinâmica de Gases</td>\n",
              "    </tr>\n",
              "    <tr>\n",
              "      <th>4</th>\n",
              "      <td>ESZS019-17</td>\n",
              "      <td>Aerodinâmica II</td>\n",
              "      <td>4</td>\n",
              "      <td>0</td>\n",
              "      <td>5</td>\n",
              "      <td>Aerodinâmica I</td>\n",
              "    </tr>\n",
              "  </tbody>\n",
              "</table>\n",
              "</div>"
            ],
            "text/plain": [
              "        SIGLA                                         DISCIPLINA  T  P  I  \\\n",
              "0  ESHR022-14  Abordagens Tradicionais das Relações Internaci...  4  0  4   \n",
              "1  ESZM035-17                            Aditivação de Polímeros  4  0  4   \n",
              "2  ESZP041-14  Administração Pública e Reforma do Estado em P...  4  0  4   \n",
              "3  ESTS016-17                                     Aerodinâmica I  4  0  5   \n",
              "4  ESZS019-17                                    Aerodinâmica II  4  0  5   \n",
              "\n",
              "                                  RECOMENDAÇÃO  \n",
              "0                                       Não há  \n",
              "1  Síntese de Polímeros; Materiais Poliméricos  \n",
              "2                                       Não há  \n",
              "3                            Dinâmica de Gases  \n",
              "4                               Aerodinâmica I  "
            ]
          },
          "metadata": {
            "tags": []
          },
          "execution_count": 8
        }
      ]
    },
    {
      "cell_type": "markdown",
      "metadata": {
        "id": "wV07BYbU_a_N",
        "colab_type": "text"
      },
      "source": [
        "Realizamos um pré-processamento das *strings* desse novo conjunto."
      ]
    },
    {
      "cell_type": "code",
      "metadata": {
        "id": "dJGsbIIx_kKu",
        "colab_type": "code",
        "colab": {}
      },
      "source": [
        "#Remoção de acentos\n",
        "disciplinas['DISCIPLINA'] = disciplinas['DISCIPLINA'].str.normalize('NFKD')\n",
        "\n",
        "#Para minusculas\n",
        "disciplinas['DISCIPLINA'] = disciplinas['DISCIPLINA'].str.lower()\n",
        "\n",
        "#Encondificação para ASCII ignorando erros\n",
        "disciplinas['DISCIPLINA'] = disciplinas['DISCIPLINA'].str.encode('ascii', errors='ignore')\n",
        "\n",
        "#Decoficação para UTF-8, formato mais empregado nessa categoria de análise\n",
        "disciplinas['DISCIPLINA'] = disciplinas['DISCIPLINA'].str.decode('utf-8')"
      ],
      "execution_count": 0,
      "outputs": []
    },
    {
      "cell_type": "markdown",
      "metadata": {
        "id": "DA9u8pkx_9ex",
        "colab_type": "text"
      },
      "source": [
        "Antes disso, realizamos uma análise das disciplinas listadas verificando se não há disciplinas com \n",
        "nomes replicados."
      ]
    },
    {
      "cell_type": "code",
      "metadata": {
        "id": "lmiJKkQj_8rL",
        "colab_type": "code",
        "colab": {
          "base_uri": "https://localhost:8080/",
          "height": 34
        },
        "outputId": "e83780ee-ebed-4600-b384-956bd1fa25fc"
      },
      "source": [
        "abs(len(disciplinas['DISCIPLINA'].unique()) - len(disciplinas['DISCIPLINA']))"
      ],
      "execution_count": 10,
      "outputs": [
        {
          "output_type": "execute_result",
          "data": {
            "text/plain": [
              "2"
            ]
          },
          "metadata": {
            "tags": []
          },
          "execution_count": 10
        }
      ]
    },
    {
      "cell_type": "markdown",
      "metadata": {
        "id": "8lO1lZeQAZQm",
        "colab_type": "text"
      },
      "source": [
        "Há duas disciplinas com nomes replicados, sendo esses:"
      ]
    },
    {
      "cell_type": "code",
      "metadata": {
        "id": "68GNSGQ2AYtX",
        "colab_type": "code",
        "colab": {
          "base_uri": "https://localhost:8080/",
          "height": 112
        },
        "outputId": "38bcf2f2-4bae-4d08-e586-888d517e20df"
      },
      "source": [
        "disciplinas[disciplinas['DISCIPLINA'].duplicated()]"
      ],
      "execution_count": 11,
      "outputs": [
        {
          "output_type": "execute_result",
          "data": {
            "text/html": [
              "<div>\n",
              "<style scoped>\n",
              "    .dataframe tbody tr th:only-of-type {\n",
              "        vertical-align: middle;\n",
              "    }\n",
              "\n",
              "    .dataframe tbody tr th {\n",
              "        vertical-align: top;\n",
              "    }\n",
              "\n",
              "    .dataframe thead th {\n",
              "        text-align: right;\n",
              "    }\n",
              "</style>\n",
              "<table border=\"1\" class=\"dataframe\">\n",
              "  <thead>\n",
              "    <tr style=\"text-align: right;\">\n",
              "      <th></th>\n",
              "      <th>SIGLA</th>\n",
              "      <th>DISCIPLINA</th>\n",
              "      <th>T</th>\n",
              "      <th>P</th>\n",
              "      <th>I</th>\n",
              "      <th>RECOMENDAÇÃO</th>\n",
              "    </tr>\n",
              "  </thead>\n",
              "  <tbody>\n",
              "    <tr>\n",
              "      <th>162</th>\n",
              "      <td>ESZG023-17</td>\n",
              "      <td>contabilidade para engenharia</td>\n",
              "      <td>4</td>\n",
              "      <td>0</td>\n",
              "      <td>5</td>\n",
              "      <td>Economia de Empresas</td>\n",
              "    </tr>\n",
              "    <tr>\n",
              "      <th>467</th>\n",
              "      <td>ESHT009-17</td>\n",
              "      <td>historia da cidade e do urbanismo</td>\n",
              "      <td>4</td>\n",
              "      <td>0</td>\n",
              "      <td>4</td>\n",
              "      <td>Não há</td>\n",
              "    </tr>\n",
              "  </tbody>\n",
              "</table>\n",
              "</div>"
            ],
            "text/plain": [
              "          SIGLA                         DISCIPLINA  T  P  I  \\\n",
              "162  ESZG023-17      contabilidade para engenharia  4  0  5   \n",
              "467  ESHT009-17  historia da cidade e do urbanismo  4  0  4   \n",
              "\n",
              "             RECOMENDAÇÃO  \n",
              "162  Economia de Empresas  \n",
              "467                Não há  "
            ]
          },
          "metadata": {
            "tags": []
          },
          "execution_count": 11
        }
      ]
    },
    {
      "cell_type": "markdown",
      "metadata": {
        "id": "5SPFFomWBBT3",
        "colab_type": "text"
      },
      "source": [
        "Talvez seja interessante reportar à universidade. Seguindo nossa análise, verificamos que há 139 disciplinas que estão nos históricos dos alunos, mas não estão no catálogo de disciplina. Isso ocorre, pois, as disciplinas foram substituidas por outras."
      ]
    },
    {
      "cell_type": "code",
      "metadata": {
        "id": "g6a6_zPkCwVV",
        "colab_type": "code",
        "colab": {
          "base_uri": "https://localhost:8080/",
          "height": 34
        },
        "outputId": "13c22e05-32eb-4819-f193-69a9e77fb824"
      },
      "source": [
        "disci_fora_catalogo = tratado['NOME_DISCIPLINA'].unique()[~np.isin(tratado['NOME_DISCIPLINA'].unique(),disciplinas['DISCIPLINA'].unique())]\n",
        "len(disci_fora_catalogo)"
      ],
      "execution_count": 12,
      "outputs": [
        {
          "output_type": "execute_result",
          "data": {
            "text/plain": [
              "139"
            ]
          },
          "metadata": {
            "tags": []
          },
          "execution_count": 12
        }
      ]
    },
    {
      "cell_type": "markdown",
      "metadata": {
        "id": "T3s-vjwDGOUr",
        "colab_type": "text"
      },
      "source": [
        "Analisando o conjunto de disciplinas elencadas observamos que essas disciplinas são datadas dos primeiros projetos pedagógicos da universidade.\n",
        "\n",
        "Dessa forma, recorremos ao primeiro catálogo de disciplinas (2011) e analisamos se haverá redução do número de disciplinas sem informações sobre T-P-I.\n",
        "\n"
      ]
    },
    {
      "cell_type": "code",
      "metadata": {
        "id": "49fErGExGMul",
        "colab_type": "code",
        "colab": {
          "base_uri": "https://localhost:8080/",
          "height": 34
        },
        "outputId": "2e8148ad-f712-4be1-8fe8-7b73818b7742"
      },
      "source": [
        "catalogo2011 = \"https://raw.githubusercontent.com/bruAristimunha/miningAbandonment/master/data/catalogo_de_disciplinas_2011.csv\"\n",
        "\n",
        "disciplinas2011 = pd.read_csv(catalogo2011, sep=\"|\")\n",
        "disciplinas2011.columns = ['SIGLA', 'DISCIPLINA', 'T', 'P', 'I']\n",
        "\n",
        "#Remoção de acentos\n",
        "disciplinas2011['DISCIPLINA'] = disciplinas2011['DISCIPLINA'].str.normalize(\n",
        "                                                                        'NFKD')\n",
        "      \n",
        "#Para minusculas\n",
        "disciplinas2011['DISCIPLINA'] = disciplinas2011['DISCIPLINA'].str.lower()\n",
        "\n",
        "#Encondificação para ASCII ignorando erros\n",
        "disciplinas2011['DISCIPLINA'] = disciplinas2011['DISCIPLINA'].str.encode('ascii', \n",
        "                                                                errors='ignore')\n",
        "\n",
        "#Decoficação para UTF-8, formato mais empregado nessa categoria de análise\n",
        "disciplinas2011['DISCIPLINA'] = disciplinas2011['DISCIPLINA'].str.decode('utf-8')\n",
        "\n",
        "\n",
        "disciplinas2011.columns"
      ],
      "execution_count": 13,
      "outputs": [
        {
          "output_type": "execute_result",
          "data": {
            "text/plain": [
              "Index(['SIGLA', 'DISCIPLINA', 'T', 'P', 'I'], dtype='object')"
            ]
          },
          "metadata": {
            "tags": []
          },
          "execution_count": 13
        }
      ]
    },
    {
      "cell_type": "code",
      "metadata": {
        "id": "DShGKc5KLwiy",
        "colab_type": "code",
        "colab": {
          "base_uri": "https://localhost:8080/",
          "height": 206
        },
        "outputId": "72349df3-39a8-4209-860c-215e5e100ea5"
      },
      "source": [
        "disciplinas = disciplinas.append(disciplinas2011, sort=True)\n",
        "\n",
        "\n",
        "disciplinas =  disciplinas[['SIGLA', 'DISCIPLINA', 'T', 'P', 'I', 'RECOMENDAÇÃO']]\n",
        "disciplinas.head()"
      ],
      "execution_count": 14,
      "outputs": [
        {
          "output_type": "execute_result",
          "data": {
            "text/html": [
              "<div>\n",
              "<style scoped>\n",
              "    .dataframe tbody tr th:only-of-type {\n",
              "        vertical-align: middle;\n",
              "    }\n",
              "\n",
              "    .dataframe tbody tr th {\n",
              "        vertical-align: top;\n",
              "    }\n",
              "\n",
              "    .dataframe thead th {\n",
              "        text-align: right;\n",
              "    }\n",
              "</style>\n",
              "<table border=\"1\" class=\"dataframe\">\n",
              "  <thead>\n",
              "    <tr style=\"text-align: right;\">\n",
              "      <th></th>\n",
              "      <th>SIGLA</th>\n",
              "      <th>DISCIPLINA</th>\n",
              "      <th>T</th>\n",
              "      <th>P</th>\n",
              "      <th>I</th>\n",
              "      <th>RECOMENDAÇÃO</th>\n",
              "    </tr>\n",
              "  </thead>\n",
              "  <tbody>\n",
              "    <tr>\n",
              "      <th>0</th>\n",
              "      <td>ESHR022-14</td>\n",
              "      <td>abordagens tradicionais das relacoes internaci...</td>\n",
              "      <td>4</td>\n",
              "      <td>0</td>\n",
              "      <td>4</td>\n",
              "      <td>Não há</td>\n",
              "    </tr>\n",
              "    <tr>\n",
              "      <th>1</th>\n",
              "      <td>ESZM035-17</td>\n",
              "      <td>aditivacao de polimeros</td>\n",
              "      <td>4</td>\n",
              "      <td>0</td>\n",
              "      <td>4</td>\n",
              "      <td>Síntese de Polímeros; Materiais Poliméricos</td>\n",
              "    </tr>\n",
              "    <tr>\n",
              "      <th>2</th>\n",
              "      <td>ESZP041-14</td>\n",
              "      <td>administracao publica e reforma do estado em p...</td>\n",
              "      <td>4</td>\n",
              "      <td>0</td>\n",
              "      <td>4</td>\n",
              "      <td>Não há</td>\n",
              "    </tr>\n",
              "    <tr>\n",
              "      <th>3</th>\n",
              "      <td>ESTS016-17</td>\n",
              "      <td>aerodinamica i</td>\n",
              "      <td>4</td>\n",
              "      <td>0</td>\n",
              "      <td>5</td>\n",
              "      <td>Dinâmica de Gases</td>\n",
              "    </tr>\n",
              "    <tr>\n",
              "      <th>4</th>\n",
              "      <td>ESZS019-17</td>\n",
              "      <td>aerodinamica ii</td>\n",
              "      <td>4</td>\n",
              "      <td>0</td>\n",
              "      <td>5</td>\n",
              "      <td>Aerodinâmica I</td>\n",
              "    </tr>\n",
              "  </tbody>\n",
              "</table>\n",
              "</div>"
            ],
            "text/plain": [
              "        SIGLA                                         DISCIPLINA  T  P  I  \\\n",
              "0  ESHR022-14  abordagens tradicionais das relacoes internaci...  4  0  4   \n",
              "1  ESZM035-17                            aditivacao de polimeros  4  0  4   \n",
              "2  ESZP041-14  administracao publica e reforma do estado em p...  4  0  4   \n",
              "3  ESTS016-17                                     aerodinamica i  4  0  5   \n",
              "4  ESZS019-17                                    aerodinamica ii  4  0  5   \n",
              "\n",
              "                                  RECOMENDAÇÃO  \n",
              "0                                       Não há  \n",
              "1  Síntese de Polímeros; Materiais Poliméricos  \n",
              "2                                       Não há  \n",
              "3                            Dinâmica de Gases  \n",
              "4                               Aerodinâmica I  "
            ]
          },
          "metadata": {
            "tags": []
          },
          "execution_count": 14
        }
      ]
    },
    {
      "cell_type": "markdown",
      "metadata": {
        "id": "ZIMyrIPPNYpI",
        "colab_type": "text"
      },
      "source": [
        "Com essa abordagem reduzimos para 18 o número de disciplinas com informações faltantes"
      ]
    },
    {
      "cell_type": "code",
      "metadata": {
        "id": "_1vr0Gb4tK9R",
        "colab_type": "code",
        "colab": {
          "base_uri": "https://localhost:8080/",
          "height": 34
        },
        "outputId": "0c353d4b-c1f1-4ff9-8dbc-5903f6d7b8d1"
      },
      "source": [
        "foraCatalogo = tratado['NOME_DISCIPLINA'].unique()[~np.isin(tratado['NOME_DISCIPLINA'].unique(),disciplinas['DISCIPLINA'].unique())]\n",
        "print(len(foraCatalogo))"
      ],
      "execution_count": 15,
      "outputs": [
        {
          "output_type": "stream",
          "text": [
            "2\n"
          ],
          "name": "stdout"
        }
      ]
    },
    {
      "cell_type": "markdown",
      "metadata": {
        "id": "GLoI4gEVOZZC",
        "colab_type": "text"
      },
      "source": [
        "Optamos pelo preenchimento manual e adição ao catalogo mais antigo (2011)."
      ]
    },
    {
      "cell_type": "code",
      "metadata": {
        "id": "W1JUOA4GOY9v",
        "colab_type": "code",
        "colab": {
          "base_uri": "https://localhost:8080/",
          "height": 34
        },
        "outputId": "31b4a09e-06ee-4709-8716-36b91cceeab4"
      },
      "source": [
        "foraCatalogo"
      ],
      "execution_count": 16,
      "outputs": [
        {
          "output_type": "execute_result",
          "data": {
            "text/plain": [
              "array(['projeto de aeronavesi', 'combustao'], dtype=object)"
            ]
          },
          "metadata": {
            "tags": []
          },
          "execution_count": 16
        }
      ]
    },
    {
      "cell_type": "markdown",
      "metadata": {
        "id": "gxzyFW6PYKiW",
        "colab_type": "text"
      },
      "source": [
        "Essas disciplinas não foram encontradas em nenhum fonte oficial de informação. Houve apenas disciplinas Combutão I, mas como não há mais informações optamos por ignorar essas instâncias.\n",
        "\n",
        "Re-ordenamos a nossa matriz com os valores tratados.\n"
      ]
    },
    {
      "cell_type": "code",
      "metadata": {
        "id": "wawUSK7AwW3A",
        "colab_type": "code",
        "colab": {}
      },
      "source": [
        "tratado.columns = ['ID DO ALUNO', 'ANO', 'QUADRIMESTRE', 'DISCIPLINA',\n",
        "       'COD_DISCIPLINA', 'CATEGORIA', 'A', 'B', 'C', 'D', 'F', 'O', 'ANO_QUAD',\n",
        "       'QUAD_CURSADO', 'ANOS_NA_UNIVER']"
      ],
      "execution_count": 0,
      "outputs": []
    },
    {
      "cell_type": "code",
      "metadata": {
        "id": "bdW4Knefgx31",
        "colab_type": "code",
        "colab": {
          "base_uri": "https://localhost:8080/",
          "height": 363
        },
        "outputId": "2d4a1243-eb73-4340-b885-49d3be934aa3"
      },
      "source": [
        "tratado.head()"
      ],
      "execution_count": 18,
      "outputs": [
        {
          "output_type": "execute_result",
          "data": {
            "text/html": [
              "<div>\n",
              "<style scoped>\n",
              "    .dataframe tbody tr th:only-of-type {\n",
              "        vertical-align: middle;\n",
              "    }\n",
              "\n",
              "    .dataframe tbody tr th {\n",
              "        vertical-align: top;\n",
              "    }\n",
              "\n",
              "    .dataframe thead th {\n",
              "        text-align: right;\n",
              "    }\n",
              "</style>\n",
              "<table border=\"1\" class=\"dataframe\">\n",
              "  <thead>\n",
              "    <tr style=\"text-align: right;\">\n",
              "      <th></th>\n",
              "      <th>ID DO ALUNO</th>\n",
              "      <th>ANO</th>\n",
              "      <th>QUADRIMESTRE</th>\n",
              "      <th>DISCIPLINA</th>\n",
              "      <th>COD_DISCIPLINA</th>\n",
              "      <th>CATEGORIA</th>\n",
              "      <th>A</th>\n",
              "      <th>B</th>\n",
              "      <th>C</th>\n",
              "      <th>D</th>\n",
              "      <th>F</th>\n",
              "      <th>O</th>\n",
              "      <th>ANO_QUAD</th>\n",
              "      <th>QUAD_CURSADO</th>\n",
              "      <th>ANOS_NA_UNIVER</th>\n",
              "    </tr>\n",
              "  </thead>\n",
              "  <tbody>\n",
              "    <tr>\n",
              "      <th>0</th>\n",
              "      <td>1.0</td>\n",
              "      <td>2011.0</td>\n",
              "      <td>2º Quadrimestre</td>\n",
              "      <td>bases computacionais da ciencia</td>\n",
              "      <td>BIM0005-13</td>\n",
              "      <td>Obrigatória</td>\n",
              "      <td>0.0</td>\n",
              "      <td>0.0</td>\n",
              "      <td>0.0</td>\n",
              "      <td>1.0</td>\n",
              "      <td>0.0</td>\n",
              "      <td>0.0</td>\n",
              "      <td>2011.02º Quadrimestre</td>\n",
              "      <td>1</td>\n",
              "      <td>0</td>\n",
              "    </tr>\n",
              "    <tr>\n",
              "      <th>1</th>\n",
              "      <td>1.0</td>\n",
              "      <td>2011.0</td>\n",
              "      <td>2º Quadrimestre</td>\n",
              "      <td>bases matematicas</td>\n",
              "      <td>BIN0003-13</td>\n",
              "      <td>Obrigatória</td>\n",
              "      <td>0.0</td>\n",
              "      <td>0.0</td>\n",
              "      <td>0.0</td>\n",
              "      <td>0.0</td>\n",
              "      <td>1.0</td>\n",
              "      <td>0.0</td>\n",
              "      <td>2011.02º Quadrimestre</td>\n",
              "      <td>1</td>\n",
              "      <td>0</td>\n",
              "    </tr>\n",
              "    <tr>\n",
              "      <th>2</th>\n",
              "      <td>1.0</td>\n",
              "      <td>2011.0</td>\n",
              "      <td>2º Quadrimestre</td>\n",
              "      <td>iniciacao a pesquisa cientifica i</td>\n",
              "      <td>ESZX129-13</td>\n",
              "      <td>Opção Limitada</td>\n",
              "      <td>1.0</td>\n",
              "      <td>0.0</td>\n",
              "      <td>0.0</td>\n",
              "      <td>0.0</td>\n",
              "      <td>0.0</td>\n",
              "      <td>0.0</td>\n",
              "      <td>2011.02º Quadrimestre</td>\n",
              "      <td>1</td>\n",
              "      <td>0</td>\n",
              "    </tr>\n",
              "    <tr>\n",
              "      <th>3</th>\n",
              "      <td>1.0</td>\n",
              "      <td>2011.0</td>\n",
              "      <td>2º Quadrimestre</td>\n",
              "      <td>origem da vida e diversidade dos seres vivos</td>\n",
              "      <td>BIL0304-13</td>\n",
              "      <td>Obrigatória</td>\n",
              "      <td>0.0</td>\n",
              "      <td>1.0</td>\n",
              "      <td>0.0</td>\n",
              "      <td>0.0</td>\n",
              "      <td>0.0</td>\n",
              "      <td>0.0</td>\n",
              "      <td>2011.02º Quadrimestre</td>\n",
              "      <td>1</td>\n",
              "      <td>0</td>\n",
              "    </tr>\n",
              "    <tr>\n",
              "      <th>4</th>\n",
              "      <td>1.0</td>\n",
              "      <td>2011.0</td>\n",
              "      <td>3º Quadrimestre</td>\n",
              "      <td>geometria analitica</td>\n",
              "      <td>BCN0404-13</td>\n",
              "      <td>Obrigatória</td>\n",
              "      <td>0.0</td>\n",
              "      <td>0.0</td>\n",
              "      <td>0.0</td>\n",
              "      <td>0.0</td>\n",
              "      <td>1.0</td>\n",
              "      <td>0.0</td>\n",
              "      <td>2011.03º Quadrimestre</td>\n",
              "      <td>2</td>\n",
              "      <td>0</td>\n",
              "    </tr>\n",
              "  </tbody>\n",
              "</table>\n",
              "</div>"
            ],
            "text/plain": [
              "   ID DO ALUNO     ANO     QUADRIMESTRE  \\\n",
              "0          1.0  2011.0  2º Quadrimestre   \n",
              "1          1.0  2011.0  2º Quadrimestre   \n",
              "2          1.0  2011.0  2º Quadrimestre   \n",
              "3          1.0  2011.0  2º Quadrimestre   \n",
              "4          1.0  2011.0  3º Quadrimestre   \n",
              "\n",
              "                                     DISCIPLINA COD_DISCIPLINA  \\\n",
              "0               bases computacionais da ciencia     BIM0005-13   \n",
              "1                             bases matematicas     BIN0003-13   \n",
              "2             iniciacao a pesquisa cientifica i     ESZX129-13   \n",
              "3  origem da vida e diversidade dos seres vivos     BIL0304-13   \n",
              "4                           geometria analitica     BCN0404-13   \n",
              "\n",
              "        CATEGORIA    A    B    C    D    F    O               ANO_QUAD  \\\n",
              "0     Obrigatória  0.0  0.0  0.0  1.0  0.0  0.0  2011.02º Quadrimestre   \n",
              "1     Obrigatória  0.0  0.0  0.0  0.0  1.0  0.0  2011.02º Quadrimestre   \n",
              "2  Opção Limitada  1.0  0.0  0.0  0.0  0.0  0.0  2011.02º Quadrimestre   \n",
              "3     Obrigatória  0.0  1.0  0.0  0.0  0.0  0.0  2011.02º Quadrimestre   \n",
              "4     Obrigatória  0.0  0.0  0.0  0.0  1.0  0.0  2011.03º Quadrimestre   \n",
              "\n",
              "   QUAD_CURSADO  ANOS_NA_UNIVER  \n",
              "0             1               0  \n",
              "1             1               0  \n",
              "2             1               0  \n",
              "3             1               0  \n",
              "4             2               0  "
            ]
          },
          "metadata": {
            "tags": []
          },
          "execution_count": 18
        }
      ]
    },
    {
      "cell_type": "code",
      "metadata": {
        "id": "I_F1kRG4b1mr",
        "colab_type": "code",
        "colab": {}
      },
      "source": [
        "tratado_01 = tratado.copy()\n",
        "disciplinas_unique = disciplinas.drop_duplicates('DISCIPLINA')\n",
        "tratado_02 = tratado_01.merge(disciplinas_unique,on='DISCIPLINA').sort_values(['ID DO ALUNO','ANO'])"
      ],
      "execution_count": 0,
      "outputs": []
    },
    {
      "cell_type": "code",
      "metadata": {
        "id": "9awO1zuZg1qa",
        "colab_type": "code",
        "colab": {}
      },
      "source": [
        "tratado_02['CRED'] = tratado_02['T'] + tratado_02['P']"
      ],
      "execution_count": 0,
      "outputs": []
    },
    {
      "cell_type": "code",
      "metadata": {
        "id": "3eTPe60XkvLN",
        "colab_type": "code",
        "colab": {}
      },
      "source": [
        "creditos_por_quad = tratado_02.groupby(['ID DO ALUNO', 'ANO', 'QUADRIMESTRE'])['CRED'].apply(sum)"
      ],
      "execution_count": 0,
      "outputs": []
    },
    {
      "cell_type": "code",
      "metadata": {
        "id": "YdNAHClPGzSD",
        "colab_type": "code",
        "colab": {
          "base_uri": "https://localhost:8080/",
          "height": 86
        },
        "outputId": "53b5d641-2b24-4676-fcb3-a00677b92dc6"
      },
      "source": [
        "tratado_02.columns"
      ],
      "execution_count": 22,
      "outputs": [
        {
          "output_type": "execute_result",
          "data": {
            "text/plain": [
              "Index(['ID DO ALUNO', 'ANO', 'QUADRIMESTRE', 'DISCIPLINA', 'COD_DISCIPLINA',\n",
              "       'CATEGORIA', 'A', 'B', 'C', 'D', 'F', 'O', 'ANO_QUAD', 'QUAD_CURSADO',\n",
              "       'ANOS_NA_UNIVER', 'SIGLA', 'T', 'P', 'I', 'RECOMENDAÇÃO', 'CRED'],\n",
              "      dtype='object')"
            ]
          },
          "metadata": {
            "tags": []
          },
          "execution_count": 22
        }
      ]
    },
    {
      "cell_type": "markdown",
      "metadata": {
        "id": "Ipf72mAlJo25",
        "colab_type": "text"
      },
      "source": [
        "## 3. Coeficiente de Rendimento por quadrimestre\n"
      ]
    },
    {
      "cell_type": "code",
      "metadata": {
        "id": "vZVL2hg5xfPP",
        "colab_type": "code",
        "colab": {}
      },
      "source": [
        "tratado_02['A_'] = tratado_02['A']*4\n",
        "tratado_02['B_'] = tratado_02['B']*3\n",
        "tratado_02['C_'] = tratado_02['C']*2\n",
        "tratado_02['D_'] = tratado_02['D']*1\n",
        "tratado_02['F_'] = tratado_02['F']*0\n",
        "tratado_02['O_'] = tratado_02['O']*0\n",
        "\n",
        "tratado_02['CONCEITO'] = tratado_02['A_']+tratado_02['B_']+tratado_02['C_']+tratado_02['D_']+tratado_02['F_']+tratado_02['O_']\n",
        "          \n",
        "          \n",
        "tratado_02['CONCEITO_CRED'] = tratado_02['CONCEITO']*tratado_02['CRED']\n",
        "\n",
        "cr_por_quadrimestre = tratado_02.groupby([\n",
        "  'ID DO ALUNO','ANO','QUADRIMESTRE'])['CONCEITO_CRED'].apply(sum)/tratado_02.groupby([\n",
        "  'ID DO ALUNO','ANO','QUADRIMESTRE'])['CRED'].apply(sum)"
      ],
      "execution_count": 0,
      "outputs": []
    },
    {
      "cell_type": "code",
      "metadata": {
        "id": "9yZPvQ3feklV",
        "colab_type": "code",
        "colab": {
          "base_uri": "https://localhost:8080/",
          "height": 1111
        },
        "outputId": "7137ab7d-db9c-4d7c-c535-608ae4280129"
      },
      "source": [
        "cr_por_quadrimestre"
      ],
      "execution_count": 24,
      "outputs": [
        {
          "output_type": "execute_result",
          "data": {
            "text/plain": [
              "ID DO ALUNO  ANO     QUADRIMESTRE   \n",
              "1.0          2011.0  2º Quadrimestre    1.727273\n",
              "                     3º Quadrimestre    1.666667\n",
              "             2012.0  1º Quadrimestre    2.176471\n",
              "                     2º Quadrimestre    3.625000\n",
              "                     3º Quadrimestre    3.000000\n",
              "             2013.0  1º Quadrimestre    3.000000\n",
              "                     2º Quadrimestre    3.500000\n",
              "                     3º Quadrimestre    3.000000\n",
              "             2015.0  3º Quadrimestre    3.000000\n",
              "             2016.0  1º Quadrimestre    2.428571\n",
              "                     2º Quadrimestre    1.846154\n",
              "                     3º Quadrimestre    2.666667\n",
              "             2017.0  1º Quadrimestre    0.600000\n",
              "                     2º Quadrimestre    3.384615\n",
              "                     3º Quadrimestre    3.200000\n",
              "2.0          2013.0  1º Quadrimestre    3.000000\n",
              "                     2º Quadrimestre    2.000000\n",
              "                     3º Quadrimestre    1.909091\n",
              "             2014.0  1º Quadrimestre    2.000000\n",
              "                     2º Quadrimestre    1.500000\n",
              "                     3º Quadrimestre    1.833333\n",
              "             2015.0  1º Quadrimestre    0.846154\n",
              "                     2º Quadrimestre    1.461538\n",
              "                     3º Quadrimestre    1.846154\n",
              "             2016.0  1º Quadrimestre    1.428571\n",
              "                     2º Quadrimestre    2.000000\n",
              "                     3º Quadrimestre    2.000000\n",
              "             2017.0  1º Quadrimestre    1.500000\n",
              "                     2º Quadrimestre    2.333333\n",
              "                     3º Quadrimestre    1.500000\n",
              "                                          ...   \n",
              "234.0        2016.0  2º Quadrimestre    1.000000\n",
              "                     3º Quadrimestre    1.000000\n",
              "             2017.0  1º Quadrimestre    0.000000\n",
              "235.0        2008.0  2º Quadrimestre    1.500000\n",
              "                     3º Quadrimestre    2.777778\n",
              "             2009.0  1º Quadrimestre    2.500000\n",
              "                     2º Quadrimestre    1.307692\n",
              "                     3º Quadrimestre    1.666667\n",
              "             2010.0  1º Quadrimestre    1.200000\n",
              "                     2º Quadrimestre    1.529412\n",
              "                     3º Quadrimestre    0.500000\n",
              "             2011.0  1º Quadrimestre    1.000000\n",
              "                     2º Quadrimestre    1.666667\n",
              "                     3º Quadrimestre    1.100000\n",
              "             2012.0  1º Quadrimestre    1.666667\n",
              "                     2º Quadrimestre    1.888889\n",
              "                     3º Quadrimestre    1.277778\n",
              "             2013.0  1º Quadrimestre    1.500000\n",
              "                     2º Quadrimestre    1.333333\n",
              "                     3º Quadrimestre    3.000000\n",
              "             2014.0  1º Quadrimestre    0.400000\n",
              "                     2º Quadrimestre    0.727273\n",
              "                     3º Quadrimestre    3.333333\n",
              "             2015.0  1º Quadrimestre    1.500000\n",
              "                     2º Quadrimestre    1.461538\n",
              "             2016.0  1º Quadrimestre    3.000000\n",
              "                     2º Quadrimestre    2.000000\n",
              "             2017.0  1º Quadrimestre    0.750000\n",
              "                     2º Quadrimestre    1.333333\n",
              "                     3º Quadrimestre    0.000000\n",
              "Length: 4140, dtype: float64"
            ]
          },
          "metadata": {
            "tags": []
          },
          "execution_count": 24
        }
      ]
    },
    {
      "cell_type": "markdown",
      "metadata": {
        "id": "_sr3HAORJ7Zt",
        "colab_type": "text"
      },
      "source": [
        "## 4. Coeficiente de Rendimento por ano\n"
      ]
    },
    {
      "cell_type": "code",
      "metadata": {
        "id": "fKAUsnfSxx6s",
        "colab_type": "code",
        "colab": {
          "base_uri": "https://localhost:8080/",
          "height": 139
        },
        "outputId": "7456cc3a-a2dd-40fd-aaea-5527662c7fec"
      },
      "source": [
        "cr_por_ano = tratado_02.groupby([\n",
        "    'ID DO ALUNO', 'ANO'])['CONCEITO_CRED'].apply(sum)/tratado_02.groupby([\n",
        "    'ID DO ALUNO','ANO'])['CRED'].apply(sum)\n",
        "\n",
        "cr_por_ano.head()"
      ],
      "execution_count": 25,
      "outputs": [
        {
          "output_type": "execute_result",
          "data": {
            "text/plain": [
              "ID DO ALUNO  ANO   \n",
              "1.0          2011.0    1.700000\n",
              "             2012.0    2.742857\n",
              "             2013.0    3.181818\n",
              "             2015.0    3.000000\n",
              "             2016.0    2.192308\n",
              "dtype: float64"
            ]
          },
          "metadata": {
            "tags": []
          },
          "execution_count": 25
        }
      ]
    },
    {
      "cell_type": "markdown",
      "metadata": {
        "id": "XwxJ8eDbKSvn",
        "colab_type": "text"
      },
      "source": [
        "## 5. Coeficiente de rendimento acumulado"
      ]
    },
    {
      "cell_type": "code",
      "metadata": {
        "id": "-bRXvFgXKZ4a",
        "colab_type": "code",
        "colab": {
          "base_uri": "https://localhost:8080/",
          "height": 139
        },
        "outputId": "8d1b6cc5-9e70-47cc-e14e-1568d0fbc53d"
      },
      "source": [
        "cr_acumulado = tratado_02.groupby([\n",
        "    'ID DO ALUNO'])['CONCEITO_CRED'].apply(sum)/tratado_02.groupby([\n",
        "    'ID DO ALUNO'])['CRED'].apply(sum)\n",
        "cr_acumulado.head()"
      ],
      "execution_count": 26,
      "outputs": [
        {
          "output_type": "execute_result",
          "data": {
            "text/plain": [
              "ID DO ALUNO\n",
              "1.0    2.549669\n",
              "2.0    1.753247\n",
              "3.0    2.528169\n",
              "4.0    1.680135\n",
              "5.0    1.694545\n",
              "dtype: float64"
            ]
          },
          "metadata": {
            "tags": []
          },
          "execution_count": 26
        }
      ]
    },
    {
      "cell_type": "markdown",
      "metadata": {
        "id": "6bnuvduXKwBS",
        "colab_type": "text"
      },
      "source": [
        "## 6.  Porcentagem de reprovação na disciplina"
      ]
    },
    {
      "cell_type": "code",
      "metadata": {
        "id": "AQUifPPlKvZM",
        "colab_type": "code",
        "colab": {}
      },
      "source": [
        "tratado_02['APROVADO'] = tratado_02['A']+tratado_02['B']+tratado_02['C']+tratado_02['D']\n",
        "tratado_02['REPROVADO'] = tratado_02['F']\n",
        "tratado_02['ABANDONO'] = tratado_02['O']\n",
        "\n",
        "porcent_aprov = tratado_02.groupby(['DISCIPLINA'])['APROVADO'].apply(sum)/(\n",
        "                      tratado_02.groupby(['DISCIPLINA'])['APROVADO'].apply(sum)+\n",
        "                      tratado_02.groupby(['DISCIPLINA'])['REPROVADO'].apply(sum)+\n",
        "                      tratado_02.groupby(['DISCIPLINA'])['ABANDONO'].apply(sum))\n",
        "\n",
        "porcent_reprov = tratado_02.groupby(['DISCIPLINA'])['REPROVADO'].apply(sum)/(\n",
        "                      tratado_02.groupby(['DISCIPLINA'])['APROVADO'].apply(sum)+\n",
        "                      tratado_02.groupby(['DISCIPLINA'])['REPROVADO'].apply(sum)+\n",
        "                      tratado_02.groupby(['DISCIPLINA'])['ABANDONO'].apply(sum))\n",
        "\n",
        "porcent_abando = tratado_02.groupby(['DISCIPLINA'])['ABANDONO'].apply(sum)/(\n",
        "                      tratado_02.groupby(['DISCIPLINA'])['APROVADO'].apply(sum)+\n",
        "                      tratado_02.groupby(['DISCIPLINA'])['REPROVADO'].apply(sum)+\n",
        "                      tratado_02.groupby(['DISCIPLINA'])['ABANDONO'].apply(sum))\n"
      ],
      "execution_count": 0,
      "outputs": []
    },
    {
      "cell_type": "code",
      "metadata": {
        "id": "VteEIRNeMQA4",
        "colab_type": "code",
        "colab": {
          "base_uri": "https://localhost:8080/",
          "height": 139
        },
        "outputId": "4290093a-5fe7-430f-9d31-2a91c1c4cb46"
      },
      "source": [
        "porcent_aprov.head()"
      ],
      "execution_count": 28,
      "outputs": [
        {
          "output_type": "execute_result",
          "data": {
            "text/plain": [
              "DISCIPLINA\n",
              "acionamentos eletricos                             0.909091\n",
              "acumuladores de energia                            0.750000\n",
              "administracao municipal e desenvolvimento local    1.000000\n",
              "aerodinamica i                                     0.857143\n",
              "aeroelasticidade                                   0.750000\n",
              "dtype: float64"
            ]
          },
          "metadata": {
            "tags": []
          },
          "execution_count": 28
        }
      ]
    },
    {
      "cell_type": "code",
      "metadata": {
        "id": "PBY_wbB8MAkn",
        "colab_type": "code",
        "colab": {
          "base_uri": "https://localhost:8080/",
          "height": 139
        },
        "outputId": "bbbfcdf1-f473-4eca-dfb9-e88186c81eaf"
      },
      "source": [
        "porcent_reprov.head()"
      ],
      "execution_count": 29,
      "outputs": [
        {
          "output_type": "execute_result",
          "data": {
            "text/plain": [
              "DISCIPLINA\n",
              "acionamentos eletricos                             0.000000\n",
              "acumuladores de energia                            0.000000\n",
              "administracao municipal e desenvolvimento local    0.000000\n",
              "aerodinamica i                                     0.071429\n",
              "aeroelasticidade                                   0.250000\n",
              "dtype: float64"
            ]
          },
          "metadata": {
            "tags": []
          },
          "execution_count": 29
        }
      ]
    },
    {
      "cell_type": "code",
      "metadata": {
        "id": "0txNikwnMVZJ",
        "colab_type": "code",
        "colab": {
          "base_uri": "https://localhost:8080/",
          "height": 139
        },
        "outputId": "f6694f41-53a2-4ca1-e5ce-b5aa3f6da4a6"
      },
      "source": [
        "porcent_abando.head()"
      ],
      "execution_count": 30,
      "outputs": [
        {
          "output_type": "execute_result",
          "data": {
            "text/plain": [
              "DISCIPLINA\n",
              "acionamentos eletricos                             0.090909\n",
              "acumuladores de energia                            0.250000\n",
              "administracao municipal e desenvolvimento local    0.000000\n",
              "aerodinamica i                                     0.071429\n",
              "aeroelasticidade                                   0.000000\n",
              "dtype: float64"
            ]
          },
          "metadata": {
            "tags": []
          },
          "execution_count": 30
        }
      ]
    },
    {
      "cell_type": "markdown",
      "metadata": {
        "id": "_z-LxXEsRIGC",
        "colab_type": "text"
      },
      "source": [
        "## 7  Diferença por quadrimestre da média de créditos global menos a quantidade no quadrimestre\n"
      ]
    },
    {
      "cell_type": "code",
      "metadata": {
        "id": "FOJhbYWeRul0",
        "colab_type": "code",
        "colab": {
          "base_uri": "https://localhost:8080/",
          "height": 139
        },
        "outputId": "52111873-c36c-4f63-c1d2-1427dc93ade7"
      },
      "source": [
        "quantCredPorQuadrimestre = tratado_02.groupby(['ID DO ALUNO','ANO','QUADRIMESTRE'])['CRED'].apply(sum)\n",
        "\n",
        "quantCredPorQuadrimestre.head()"
      ],
      "execution_count": 31,
      "outputs": [
        {
          "output_type": "execute_result",
          "data": {
            "text/plain": [
              "ID DO ALUNO  ANO     QUADRIMESTRE   \n",
              "1.0          2011.0  2º Quadrimestre    11\n",
              "                     3º Quadrimestre     9\n",
              "             2012.0  1º Quadrimestre    17\n",
              "                     2º Quadrimestre     8\n",
              "                     3º Quadrimestre    10\n",
              "Name: CRED, dtype: int64"
            ]
          },
          "metadata": {
            "tags": []
          },
          "execution_count": 31
        }
      ]
    },
    {
      "cell_type": "code",
      "metadata": {
        "id": "fMWuD_NPSoHN",
        "colab_type": "code",
        "colab": {
          "base_uri": "https://localhost:8080/",
          "height": 139
        },
        "outputId": "3be7bc69-c365-4c28-f493-81cb22f133cd"
      },
      "source": [
        "media = quantCredPorQuadrimestre.reset_index().groupby(['ID DO ALUNO'])['CRED'].apply(np.mean)\n",
        "media.head()"
      ],
      "execution_count": 32,
      "outputs": [
        {
          "output_type": "execute_result",
          "data": {
            "text/plain": [
              "ID DO ALUNO\n",
              "1.0    10.066667\n",
              "2.0    10.266667\n",
              "3.0    10.142857\n",
              "4.0    10.607143\n",
              "5.0    10.576923\n",
              "Name: CRED, dtype: float64"
            ]
          },
          "metadata": {
            "tags": []
          },
          "execution_count": 32
        }
      ]
    },
    {
      "cell_type": "code",
      "metadata": {
        "id": "RgqBJMbdT8ts",
        "colab_type": "code",
        "colab": {}
      },
      "source": [
        "diferencaMedia = quantCredPorQuadrimestre - media"
      ],
      "execution_count": 0,
      "outputs": []
    },
    {
      "cell_type": "markdown",
      "metadata": {
        "id": "qYtmqyjURXxb",
        "colab_type": "text"
      },
      "source": [
        "## 8.  z-score entre a quantidade créditos cursadas;  \n"
      ]
    },
    {
      "cell_type": "code",
      "metadata": {
        "id": "XxeoTlhMV6AE",
        "colab_type": "code",
        "colab": {
          "base_uri": "https://localhost:8080/",
          "height": 139
        },
        "outputId": "66e18134-16fd-459d-8529-a5c793c4ad9d"
      },
      "source": [
        "std = quantCredPorQuadrimestre.reset_index().groupby(['ID DO ALUNO'])['CRED'].apply(np.std)\n",
        "\n",
        "z_score_creditos = (quantCredPorQuadrimestre - media)/std\n",
        "\n",
        "z_score_creditos.head()\n",
        "\n",
        "#Conferencia com a implementação oficial:\n",
        "#quantCredPorQuadrimestre.reset_index().groupby(['ID DO ALUNO'])['CRED'].apply(sci.stats.zscore)\n",
        "#bate, mas formatação estranha."
      ],
      "execution_count": 34,
      "outputs": [
        {
          "output_type": "execute_result",
          "data": {
            "text/plain": [
              "ID DO ALUNO  ANO     QUADRIMESTRE   \n",
              "1.0          2011.0  2º Quadrimestre    0.283190\n",
              "                     3º Quadrimestre   -0.323645\n",
              "             2012.0  1º Quadrimestre    2.103695\n",
              "                     2º Quadrimestre   -0.627063\n",
              "                     3º Quadrimestre   -0.020228\n",
              "Name: CRED, dtype: float64"
            ]
          },
          "metadata": {
            "tags": []
          },
          "execution_count": 34
        }
      ]
    },
    {
      "cell_type": "markdown",
      "metadata": {
        "id": "HdQn7_83Vxwz",
        "colab_type": "text"
      },
      "source": [
        "# Juntando em um único dataset"
      ]
    },
    {
      "cell_type": "code",
      "metadata": {
        "id": "5WGElqX4XGlM",
        "colab_type": "code",
        "colab": {
          "base_uri": "https://localhost:8080/",
          "height": 121
        },
        "outputId": "9f98d19c-4b7a-4aef-ff8e-48ffebd4e658"
      },
      "source": [
        "tratado_02.columns\n",
        "\n"
      ],
      "execution_count": 35,
      "outputs": [
        {
          "output_type": "execute_result",
          "data": {
            "text/plain": [
              "Index(['ID DO ALUNO', 'ANO', 'QUADRIMESTRE', 'DISCIPLINA', 'COD_DISCIPLINA',\n",
              "       'CATEGORIA', 'A', 'B', 'C', 'D', 'F', 'O', 'ANO_QUAD', 'QUAD_CURSADO',\n",
              "       'ANOS_NA_UNIVER', 'SIGLA', 'T', 'P', 'I', 'RECOMENDAÇÃO', 'CRED', 'A_',\n",
              "       'B_', 'C_', 'D_', 'F_', 'O_', 'CONCEITO', 'CONCEITO_CRED', 'APROVADO',\n",
              "       'REPROVADO', 'ABANDONO'],\n",
              "      dtype='object')"
            ]
          },
          "metadata": {
            "tags": []
          },
          "execution_count": 35
        }
      ]
    },
    {
      "cell_type": "code",
      "metadata": {
        "id": "KDyBXn_xaPK8",
        "colab_type": "code",
        "colab": {}
      },
      "source": [
        "porcent_aprov = porcent_aprov.reset_index()\n",
        "\n",
        "porcent_aprov.columns = ['DISCIPLINA','PORC_APROV']"
      ],
      "execution_count": 0,
      "outputs": []
    },
    {
      "cell_type": "code",
      "metadata": {
        "id": "hWsjGS5ea8dj",
        "colab_type": "code",
        "colab": {}
      },
      "source": [
        "tratado_02 = tratado_02.merge(porcent_aprov,on='DISCIPLINA').sort_values(['ID DO ALUNO','ANO'])"
      ],
      "execution_count": 0,
      "outputs": []
    },
    {
      "cell_type": "code",
      "metadata": {
        "id": "CbtRkKQ_aSIB",
        "colab_type": "code",
        "colab": {}
      },
      "source": [
        "porcent_reprov = porcent_reprov.reset_index()\n",
        "\n",
        "porcent_reprov.columns = ['DISCIPLINA','PORC_REPROV']\n",
        "\n",
        "tratado_02 = tratado_02.merge(porcent_reprov,on='DISCIPLINA').sort_values(['ID DO ALUNO','ANO'])\n",
        "\n",
        "porcent_abando = porcent_abando.reset_index()\n",
        "\n",
        "porcent_abando.columns = ['DISCIPLINA','PORC_ABANDO']\n",
        "\n",
        "tratado_02 = tratado_02.merge(porcent_abando,on='DISCIPLINA').sort_values(['ID DO ALUNO','ANO'])"
      ],
      "execution_count": 0,
      "outputs": []
    },
    {
      "cell_type": "code",
      "metadata": {
        "id": "DGxc7yE0brnT",
        "colab_type": "code",
        "colab": {}
      },
      "source": [
        "quantCredPorQuadrimestre = quantCredPorQuadrimestre.reset_index()\n",
        "quantCredPorQuadrimestre.columns = ['ID DO ALUNO','ANO','QUADRIMESTRE','CRED_POR_QUAD']\n"
      ],
      "execution_count": 0,
      "outputs": []
    },
    {
      "cell_type": "code",
      "metadata": {
        "id": "7IDP-Tr_cMwr",
        "colab_type": "code",
        "colab": {}
      },
      "source": [
        "tratado_02 = tratado_02.merge(quantCredPorQuadrimestre,on=['ID DO ALUNO','ANO','QUADRIMESTRE']).sort_values(['ID DO ALUNO','ANO','QUADRIMESTRE']) "
      ],
      "execution_count": 0,
      "outputs": []
    },
    {
      "cell_type": "code",
      "metadata": {
        "id": "_nDdAslVcqgV",
        "colab_type": "code",
        "colab": {}
      },
      "source": [
        "diferencaMedia = diferencaMedia.reset_index()\n",
        "diferencaMedia.columns = ['ID DO ALUNO','ANO','QUADRIMESTRE','DIFERENCA_A_MEDIA']\n",
        "\n",
        "tratado_02 = tratado_02.merge(diferencaMedia,on=['ID DO ALUNO','ANO','QUADRIMESTRE']).sort_values(['ID DO ALUNO','ANO','QUADRIMESTRE']) "
      ],
      "execution_count": 0,
      "outputs": []
    },
    {
      "cell_type": "code",
      "metadata": {
        "id": "tBOZ35w4dFIE",
        "colab_type": "code",
        "colab": {}
      },
      "source": [
        "z_score_creditos = z_score_creditos.reset_index()\n",
        "z_score_creditos.columns = ['ID DO ALUNO','ANO','QUADRIMESTRE','Z_SCORE']\n",
        "\n",
        "tratado_02 = tratado_02.merge(z_score_creditos,on=['ID DO ALUNO','ANO','QUADRIMESTRE']).sort_values(['ID DO ALUNO','ANO','QUADRIMESTRE']) "
      ],
      "execution_count": 0,
      "outputs": []
    },
    {
      "cell_type": "code",
      "metadata": {
        "id": "YlamvmYKdUYk",
        "colab_type": "code",
        "colab": {}
      },
      "source": [
        "cr_acumulado = cr_acumulado.reset_index()\n",
        "\n",
        "cr_acumulado.columns = ['ID DO ALUNO','CR_ACUMULADO']\n",
        "\n",
        "tratado_02 = tratado_02.merge(cr_acumulado,on=['ID DO ALUNO']).sort_values(['ID DO ALUNO','ANO','QUADRIMESTRE']) "
      ],
      "execution_count": 0,
      "outputs": []
    },
    {
      "cell_type": "code",
      "metadata": {
        "id": "buMOUJ6DeEsK",
        "colab_type": "code",
        "colab": {}
      },
      "source": [
        "cr_por_quadrimestre = cr_por_quadrimestre.reset_index()\n",
        "\n",
        "cr_por_quadrimestre.columns = ['ID DO ALUNO','ANO','QUADRIMESTRE','CR_QUAD']\n",
        "\n",
        "tratado_02 = tratado_02.merge(cr_por_quadrimestre,on=['ID DO ALUNO','ANO','QUADRIMESTRE']).sort_values(['ID DO ALUNO','ANO','QUADRIMESTRE']) "
      ],
      "execution_count": 0,
      "outputs": []
    },
    {
      "cell_type": "code",
      "metadata": {
        "id": "9ECK5dtKd-8p",
        "colab_type": "code",
        "colab": {}
      },
      "source": [
        "cr_por_ano = cr_por_ano.reset_index()\n",
        "\n",
        "cr_por_ano.columns = ['ID DO ALUNO','ANO','CR_POR_ANO']\n",
        "\n",
        "tratado_02 = tratado_02.merge(cr_por_ano,on=['ID DO ALUNO','ANO']).sort_values(['ID DO ALUNO','ANO','QUADRIMESTRE']) \n",
        "\n"
      ],
      "execution_count": 0,
      "outputs": []
    },
    {
      "cell_type": "code",
      "metadata": {
        "id": "Wwu6jevmesgE",
        "colab_type": "code",
        "colab": {}
      },
      "source": [
        "tratado_03 = tratado_02.drop(['A_','B_','C_', 'D_', 'F_', 'O_','RECOMENDAÇÃO'],axis=1)"
      ],
      "execution_count": 0,
      "outputs": []
    },
    {
      "cell_type": "code",
      "metadata": {
        "id": "6pXMUvBBfWKA",
        "colab_type": "code",
        "colab": {}
      },
      "source": [
        "tratado_03 = tratado_03[['ID DO ALUNO', 'ANO', 'QUADRIMESTRE', 'DISCIPLINA', \n",
        "            'COD_DISCIPLINA','CATEGORIA','ANO_QUAD', 'QUAD_CURSADO',\n",
        "            'ANOS_NA_UNIVER', 'SIGLA', 'T', 'P', 'I', \n",
        "            'CRED', 'CONCEITO', 'CONCEITO_CRED',\n",
        "           'PORC_APROV', 'PORC_REPROV', 'PORC_ABANDO', 'CRED_POR_QUAD',\n",
        "           'DIFERENCA_A_MEDIA', 'Z_SCORE', 'CR_ACUMULADO', 'CR_QUAD',\n",
        "           'CR_POR_ANO', 'A', 'B', 'C', 'D', 'F', 'O',\n",
        "            'APROVADO', 'REPROVADO', 'ABANDONO']]"
      ],
      "execution_count": 0,
      "outputs": []
    },
    {
      "cell_type": "code",
      "metadata": {
        "id": "1--K4MoegE0C",
        "colab_type": "code",
        "colab": {}
      },
      "source": [
        "tratado_03.to_csv(\"dataset.csv\",sep=\"|\")\n",
        "from google.colab import files\n"
      ],
      "execution_count": 0,
      "outputs": []
    },
    {
      "cell_type": "code",
      "metadata": {
        "id": "vZLdxNPdgSBP",
        "colab_type": "code",
        "colab": {}
      },
      "source": [
        "files.download('dataset.csv')"
      ],
      "execution_count": 0,
      "outputs": []
    }
  ]
}